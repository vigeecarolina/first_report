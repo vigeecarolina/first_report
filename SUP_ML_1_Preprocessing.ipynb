{
  "cells": [
    {
      "cell_type": "markdown",
      "metadata": {
        "id": "view-in-github",
        "colab_type": "text"
      },
      "source": [
        "<a href=\"https://colab.research.google.com/github/vigeecarolina/first_report/blob/master/SUP_ML_1_Preprocessing.ipynb\" target=\"_parent\"><img src=\"https://colab.research.google.com/assets/colab-badge.svg\" alt=\"Open In Colab\"/></a>"
      ]
    },
    {
      "cell_type": "markdown",
      "metadata": {
        "id": "87Bve6QZggnT"
      },
      "source": [
        "# TEMPLATE 1 - PREPROCESSING"
      ]
    },
    {
      "cell_type": "markdown",
      "metadata": {
        "id": "jTEOHHidYOV-"
      },
      "source": [
        "# Libraries"
      ]
    },
    {
      "cell_type": "code",
      "execution_count": null,
      "metadata": {
        "id": "5Rkor61lYTQX"
      },
      "outputs": [],
      "source": [
        "import pandas as pd     # Manejo de dataframes\n",
        "import numpy as np      # Calculos matriciales\n",
        "import matplotlib.pyplot as plt    # Visualizacion\n",
        "import seaborn as sns              # Visualizacion\n",
        "from google.colab import drive     # Drive en Colab\n",
        "from sklearn.compose import make_column_selector as selector\n",
        "\n",
        "\n",
        "import warnings\n",
        "warnings.filterwarnings(\"ignore\")  # inhabilita warnings"
      ]
    },
    {
      "cell_type": "markdown",
      "metadata": {
        "id": "B6bkXCg5Xx4B"
      },
      "source": [
        "# Import data"
      ]
    },
    {
      "cell_type": "code",
      "execution_count": null,
      "metadata": {
        "colab": {
          "base_uri": "https://localhost:8080/"
        },
        "id": "OSoySb5d1Fg-",
        "outputId": "58867b49-4969-41bd-ad3e-1002c5f8272d"
      },
      "outputs": [
        {
          "output_type": "stream",
          "name": "stdout",
          "text": [
            "Mounted at /content/drive\n"
          ]
        }
      ],
      "source": [
        "from google.colab import drive\n",
        "drive.mount('/content/drive')"
      ]
    },
    {
      "cell_type": "code",
      "execution_count": null,
      "metadata": {
        "id": "PROwBaoRpp6a"
      },
      "outputs": [],
      "source": [
        "df = pd.read_csv('/content/drive/MyDrive/NUCLIO DSC ML SUPERVISADO - Compartida 2/“DSC0922 – Entregable SupML - {Rojas}”/malware_traintest.csv')"
      ]
    },
    {
      "cell_type": "code",
      "execution_count": null,
      "metadata": {
        "colab": {
          "base_uri": "https://localhost:8080/"
        },
        "id": "zOicJdDK4T0B",
        "outputId": "55fd65e1-ac7c-4e91-e22a-b49ea511da05"
      },
      "outputs": [
        {
          "output_type": "stream",
          "name": "stdout",
          "text": [
            "<class 'pandas.core.frame.DataFrame'>\n",
            "RangeIndex: 500000 entries, 0 to 499999\n",
            "Data columns (total 84 columns):\n",
            " #   Column                                             Non-Null Count   Dtype  \n",
            "---  ------                                             --------------   -----  \n",
            " 0   Unnamed: 0                                         500000 non-null  int64  \n",
            " 1   MachineIdentifier                                  500000 non-null  object \n",
            " 2   ProductName                                        500000 non-null  object \n",
            " 3   EngineVersion                                      500000 non-null  object \n",
            " 4   AppVersion                                         500000 non-null  object \n",
            " 5   AvSigVersion                                       500000 non-null  object \n",
            " 6   IsBeta                                             500000 non-null  int64  \n",
            " 7   RtpStateBitfield                                   498168 non-null  float64\n",
            " 8   IsSxsPassiveMode                                   500000 non-null  int64  \n",
            " 9   DefaultBrowsersIdentifier                          24061 non-null   float64\n",
            " 10  AVProductStatesIdentifier                          498062 non-null  float64\n",
            " 11  AVProductsInstalled                                498062 non-null  float64\n",
            " 12  AVProductsEnabled                                  498062 non-null  float64\n",
            " 13  HasTpm                                             500000 non-null  int64  \n",
            " 14  CountryIdentifier                                  500000 non-null  int64  \n",
            " 15  CityIdentifier                                     481760 non-null  float64\n",
            " 16  OrganizationIdentifier                             345437 non-null  float64\n",
            " 17  GeoNameIdentifier                                  499984 non-null  float64\n",
            " 18  LocaleEnglishNameIdentifier                        500000 non-null  int64  \n",
            " 19  Platform                                           500000 non-null  object \n",
            " 20  Processor                                          500000 non-null  object \n",
            " 21  OsVer                                              500000 non-null  object \n",
            " 22  OsBuild                                            500000 non-null  int64  \n",
            " 23  OsSuite                                            500000 non-null  int64  \n",
            " 24  OsPlatformSubRelease                               500000 non-null  object \n",
            " 25  OsBuildLab                                         499999 non-null  object \n",
            " 26  SkuEdition                                         500000 non-null  object \n",
            " 27  IsProtected                                        498074 non-null  float64\n",
            " 28  AutoSampleOptIn                                    500000 non-null  int64  \n",
            " 29  PuaMode                                            126 non-null     object \n",
            " 30  SMode                                              470152 non-null  float64\n",
            " 31  IeVerIdentifier                                    496791 non-null  float64\n",
            " 32  SmartScreen                                        321404 non-null  object \n",
            " 33  Firewall                                           494838 non-null  float64\n",
            " 34  UacLuaenable                                       499377 non-null  float64\n",
            " 35  Census_MDC2FormFactor                              500000 non-null  object \n",
            " 36  Census_DeviceFamily                                500000 non-null  object \n",
            " 37  Census_OEMNameIdentifier                           494619 non-null  float64\n",
            " 38  Census_OEMModelIdentifier                          494236 non-null  float64\n",
            " 39  Census_ProcessorCoreCount                          497653 non-null  float64\n",
            " 40  Census_ProcessorManufacturerIdentifier             497653 non-null  float64\n",
            " 41  Census_ProcessorModelIdentifier                    497651 non-null  float64\n",
            " 42  Census_ProcessorClass                              2082 non-null    object \n",
            " 43  Census_PrimaryDiskTotalCapacity                    497024 non-null  float64\n",
            " 44  Census_PrimaryDiskTypeName                         499291 non-null  object \n",
            " 45  Census_SystemVolumeTotalCapacity                   497024 non-null  float64\n",
            " 46  Census_HasOpticalDiskDrive                         500000 non-null  int64  \n",
            " 47  Census_TotalPhysicalRAM                            495444 non-null  float64\n",
            " 48  Census_ChassisTypeName                             499963 non-null  object \n",
            " 49  Census_InternalPrimaryDiagonalDisplaySizeInInches  497346 non-null  float64\n",
            " 50  Census_InternalPrimaryDisplayResolutionHorizontal  497350 non-null  float64\n",
            " 51  Census_InternalPrimaryDisplayResolutionVertical    497350 non-null  float64\n",
            " 52  Census_PowerPlatformRoleName                       499998 non-null  object \n",
            " 53  Census_InternalBatteryType                         144397 non-null  object \n",
            " 54  Census_InternalBatteryNumberOfCharges              484962 non-null  float64\n",
            " 55  Census_OSVersion                                   500000 non-null  object \n",
            " 56  Census_OSArchitecture                              500000 non-null  object \n",
            " 57  Census_OSBranch                                    500000 non-null  object \n",
            " 58  Census_OSBuildNumber                               500000 non-null  int64  \n",
            " 59  Census_OSBuildRevision                             500000 non-null  int64  \n",
            " 60  Census_OSEdition                                   500000 non-null  object \n",
            " 61  Census_OSSkuName                                   500000 non-null  object \n",
            " 62  Census_OSInstallTypeName                           500000 non-null  object \n",
            " 63  Census_OSInstallLanguageIdentifier                 496668 non-null  float64\n",
            " 64  Census_OSUILocaleIdentifier                        500000 non-null  int64  \n",
            " 65  Census_OSWUAutoUpdateOptionsName                   500000 non-null  object \n",
            " 66  Census_IsPortableOperatingSystem                   500000 non-null  int64  \n",
            " 67  Census_GenuineStateName                            500000 non-null  object \n",
            " 68  Census_ActivationChannel                           500000 non-null  object \n",
            " 69  Census_IsFlightingInternal                         84775 non-null   float64\n",
            " 70  Census_IsFlightsDisabled                           491067 non-null  float64\n",
            " 71  Census_FlightRing                                  500000 non-null  object \n",
            " 72  Census_ThresholdOptIn                              181896 non-null  float64\n",
            " 73  Census_FirmwareManufacturerIdentifier              489651 non-null  float64\n",
            " 74  Census_FirmwareVersionIdentifier                   490939 non-null  float64\n",
            " 75  Census_IsSecureBootEnabled                         500000 non-null  int64  \n",
            " 76  Census_IsWIMBootEnabled                            182334 non-null  float64\n",
            " 77  Census_IsVirtualDevice                             499099 non-null  float64\n",
            " 78  Census_IsTouchEnabled                              500000 non-null  int64  \n",
            " 79  Census_IsPenCapable                                500000 non-null  int64  \n",
            " 80  Census_IsAlwaysOnAlwaysConnectedCapable            495960 non-null  float64\n",
            " 81  Wdft_IsGamer                                       483050 non-null  float64\n",
            " 82  Wdft_RegionIdentifier                              483050 non-null  float64\n",
            " 83  HasDetections                                      500000 non-null  int64  \n",
            "dtypes: float64(36), int64(18), object(30)\n",
            "memory usage: 320.4+ MB\n"
          ]
        }
      ],
      "source": [
        "df.info()"
      ]
    },
    {
      "cell_type": "code",
      "execution_count": null,
      "metadata": {
        "colab": {
          "base_uri": "https://localhost:8080/",
          "height": 317
        },
        "id": "LHQEXs764YwW",
        "outputId": "55794cf7-2fb7-4170-acc3-fde2d9ef563e"
      },
      "outputs": [
        {
          "output_type": "execute_result",
          "data": {
            "text/plain": [
              "   Unnamed: 0                 MachineIdentifier   ProductName EngineVersion  \\\n",
              "0     8427007  f1cd864e97bae82bdf96523e1a539121  win8defender   1.1.15100.1   \n",
              "1     8829090  fd5ba6f5b75325ec0423a6c67cc75942  win8defender   1.1.15100.1   \n",
              "2     2731904  4e628391e7cc7c482fb3286f486dbd25  win8defender   1.1.15100.1   \n",
              "3     1359513  270a2e9d028144a4df12a9e3da79fba5  win8defender   1.1.15200.1   \n",
              "4      236059  06ca8fa8d32c2abdc5b3577d676b3269  win8defender   1.1.15200.1   \n",
              "\n",
              "        AppVersion  AvSigVersion  IsBeta  RtpStateBitfield  IsSxsPassiveMode  \\\n",
              "0  4.18.1807.18075  1.273.1234.0       0               7.0                 0   \n",
              "1  4.18.1807.18075  1.273.1282.0       0               7.0                 0   \n",
              "2   4.9.10586.1106   1.273.781.0       0               7.0                 0   \n",
              "3  4.18.1807.18075  1.275.1639.0       0               7.0                 0   \n",
              "4  4.18.1807.18075   1.275.511.0       0               7.0                 0   \n",
              "\n",
              "   DefaultBrowsersIdentifier  ...  Census_FirmwareVersionIdentifier  \\\n",
              "0                        NaN  ...                           19951.0   \n",
              "1                        NaN  ...                           48753.0   \n",
              "2                        NaN  ...                           33111.0   \n",
              "3                        NaN  ...                           48473.0   \n",
              "4                        NaN  ...                            4343.0   \n",
              "\n",
              "   Census_IsSecureBootEnabled  Census_IsWIMBootEnabled  \\\n",
              "0                           0                      NaN   \n",
              "1                           0                      0.0   \n",
              "2                           1                      0.0   \n",
              "3                           1                      NaN   \n",
              "4                           1                      NaN   \n",
              "\n",
              "   Census_IsVirtualDevice  Census_IsTouchEnabled  Census_IsPenCapable  \\\n",
              "0                     0.0                      0                    0   \n",
              "1                     0.0                      0                    0   \n",
              "2                     0.0                      1                    1   \n",
              "3                     0.0                      0                    0   \n",
              "4                     0.0                      1                    0   \n",
              "\n",
              "   Census_IsAlwaysOnAlwaysConnectedCapable  Wdft_IsGamer  \\\n",
              "0                                      0.0           0.0   \n",
              "1                                      0.0           1.0   \n",
              "2                                      0.0           0.0   \n",
              "3                                      0.0           0.0   \n",
              "4                                      0.0           1.0   \n",
              "\n",
              "   Wdft_RegionIdentifier HasDetections  \n",
              "0                   11.0             1  \n",
              "1                    3.0             0  \n",
              "2                   15.0             0  \n",
              "3                   15.0             1  \n",
              "4                   13.0             1  \n",
              "\n",
              "[5 rows x 84 columns]"
            ],
            "text/html": [
              "\n",
              "  <div id=\"df-56466ed2-3fd3-4ed3-9744-50a040441913\">\n",
              "    <div class=\"colab-df-container\">\n",
              "      <div>\n",
              "<style scoped>\n",
              "    .dataframe tbody tr th:only-of-type {\n",
              "        vertical-align: middle;\n",
              "    }\n",
              "\n",
              "    .dataframe tbody tr th {\n",
              "        vertical-align: top;\n",
              "    }\n",
              "\n",
              "    .dataframe thead th {\n",
              "        text-align: right;\n",
              "    }\n",
              "</style>\n",
              "<table border=\"1\" class=\"dataframe\">\n",
              "  <thead>\n",
              "    <tr style=\"text-align: right;\">\n",
              "      <th></th>\n",
              "      <th>Unnamed: 0</th>\n",
              "      <th>MachineIdentifier</th>\n",
              "      <th>ProductName</th>\n",
              "      <th>EngineVersion</th>\n",
              "      <th>AppVersion</th>\n",
              "      <th>AvSigVersion</th>\n",
              "      <th>IsBeta</th>\n",
              "      <th>RtpStateBitfield</th>\n",
              "      <th>IsSxsPassiveMode</th>\n",
              "      <th>DefaultBrowsersIdentifier</th>\n",
              "      <th>...</th>\n",
              "      <th>Census_FirmwareVersionIdentifier</th>\n",
              "      <th>Census_IsSecureBootEnabled</th>\n",
              "      <th>Census_IsWIMBootEnabled</th>\n",
              "      <th>Census_IsVirtualDevice</th>\n",
              "      <th>Census_IsTouchEnabled</th>\n",
              "      <th>Census_IsPenCapable</th>\n",
              "      <th>Census_IsAlwaysOnAlwaysConnectedCapable</th>\n",
              "      <th>Wdft_IsGamer</th>\n",
              "      <th>Wdft_RegionIdentifier</th>\n",
              "      <th>HasDetections</th>\n",
              "    </tr>\n",
              "  </thead>\n",
              "  <tbody>\n",
              "    <tr>\n",
              "      <th>0</th>\n",
              "      <td>8427007</td>\n",
              "      <td>f1cd864e97bae82bdf96523e1a539121</td>\n",
              "      <td>win8defender</td>\n",
              "      <td>1.1.15100.1</td>\n",
              "      <td>4.18.1807.18075</td>\n",
              "      <td>1.273.1234.0</td>\n",
              "      <td>0</td>\n",
              "      <td>7.0</td>\n",
              "      <td>0</td>\n",
              "      <td>NaN</td>\n",
              "      <td>...</td>\n",
              "      <td>19951.0</td>\n",
              "      <td>0</td>\n",
              "      <td>NaN</td>\n",
              "      <td>0.0</td>\n",
              "      <td>0</td>\n",
              "      <td>0</td>\n",
              "      <td>0.0</td>\n",
              "      <td>0.0</td>\n",
              "      <td>11.0</td>\n",
              "      <td>1</td>\n",
              "    </tr>\n",
              "    <tr>\n",
              "      <th>1</th>\n",
              "      <td>8829090</td>\n",
              "      <td>fd5ba6f5b75325ec0423a6c67cc75942</td>\n",
              "      <td>win8defender</td>\n",
              "      <td>1.1.15100.1</td>\n",
              "      <td>4.18.1807.18075</td>\n",
              "      <td>1.273.1282.0</td>\n",
              "      <td>0</td>\n",
              "      <td>7.0</td>\n",
              "      <td>0</td>\n",
              "      <td>NaN</td>\n",
              "      <td>...</td>\n",
              "      <td>48753.0</td>\n",
              "      <td>0</td>\n",
              "      <td>0.0</td>\n",
              "      <td>0.0</td>\n",
              "      <td>0</td>\n",
              "      <td>0</td>\n",
              "      <td>0.0</td>\n",
              "      <td>1.0</td>\n",
              "      <td>3.0</td>\n",
              "      <td>0</td>\n",
              "    </tr>\n",
              "    <tr>\n",
              "      <th>2</th>\n",
              "      <td>2731904</td>\n",
              "      <td>4e628391e7cc7c482fb3286f486dbd25</td>\n",
              "      <td>win8defender</td>\n",
              "      <td>1.1.15100.1</td>\n",
              "      <td>4.9.10586.1106</td>\n",
              "      <td>1.273.781.0</td>\n",
              "      <td>0</td>\n",
              "      <td>7.0</td>\n",
              "      <td>0</td>\n",
              "      <td>NaN</td>\n",
              "      <td>...</td>\n",
              "      <td>33111.0</td>\n",
              "      <td>1</td>\n",
              "      <td>0.0</td>\n",
              "      <td>0.0</td>\n",
              "      <td>1</td>\n",
              "      <td>1</td>\n",
              "      <td>0.0</td>\n",
              "      <td>0.0</td>\n",
              "      <td>15.0</td>\n",
              "      <td>0</td>\n",
              "    </tr>\n",
              "    <tr>\n",
              "      <th>3</th>\n",
              "      <td>1359513</td>\n",
              "      <td>270a2e9d028144a4df12a9e3da79fba5</td>\n",
              "      <td>win8defender</td>\n",
              "      <td>1.1.15200.1</td>\n",
              "      <td>4.18.1807.18075</td>\n",
              "      <td>1.275.1639.0</td>\n",
              "      <td>0</td>\n",
              "      <td>7.0</td>\n",
              "      <td>0</td>\n",
              "      <td>NaN</td>\n",
              "      <td>...</td>\n",
              "      <td>48473.0</td>\n",
              "      <td>1</td>\n",
              "      <td>NaN</td>\n",
              "      <td>0.0</td>\n",
              "      <td>0</td>\n",
              "      <td>0</td>\n",
              "      <td>0.0</td>\n",
              "      <td>0.0</td>\n",
              "      <td>15.0</td>\n",
              "      <td>1</td>\n",
              "    </tr>\n",
              "    <tr>\n",
              "      <th>4</th>\n",
              "      <td>236059</td>\n",
              "      <td>06ca8fa8d32c2abdc5b3577d676b3269</td>\n",
              "      <td>win8defender</td>\n",
              "      <td>1.1.15200.1</td>\n",
              "      <td>4.18.1807.18075</td>\n",
              "      <td>1.275.511.0</td>\n",
              "      <td>0</td>\n",
              "      <td>7.0</td>\n",
              "      <td>0</td>\n",
              "      <td>NaN</td>\n",
              "      <td>...</td>\n",
              "      <td>4343.0</td>\n",
              "      <td>1</td>\n",
              "      <td>NaN</td>\n",
              "      <td>0.0</td>\n",
              "      <td>1</td>\n",
              "      <td>0</td>\n",
              "      <td>0.0</td>\n",
              "      <td>1.0</td>\n",
              "      <td>13.0</td>\n",
              "      <td>1</td>\n",
              "    </tr>\n",
              "  </tbody>\n",
              "</table>\n",
              "<p>5 rows × 84 columns</p>\n",
              "</div>\n",
              "      <button class=\"colab-df-convert\" onclick=\"convertToInteractive('df-56466ed2-3fd3-4ed3-9744-50a040441913')\"\n",
              "              title=\"Convert this dataframe to an interactive table.\"\n",
              "              style=\"display:none;\">\n",
              "        \n",
              "  <svg xmlns=\"http://www.w3.org/2000/svg\" height=\"24px\"viewBox=\"0 0 24 24\"\n",
              "       width=\"24px\">\n",
              "    <path d=\"M0 0h24v24H0V0z\" fill=\"none\"/>\n",
              "    <path d=\"M18.56 5.44l.94 2.06.94-2.06 2.06-.94-2.06-.94-.94-2.06-.94 2.06-2.06.94zm-11 1L8.5 8.5l.94-2.06 2.06-.94-2.06-.94L8.5 2.5l-.94 2.06-2.06.94zm10 10l.94 2.06.94-2.06 2.06-.94-2.06-.94-.94-2.06-.94 2.06-2.06.94z\"/><path d=\"M17.41 7.96l-1.37-1.37c-.4-.4-.92-.59-1.43-.59-.52 0-1.04.2-1.43.59L10.3 9.45l-7.72 7.72c-.78.78-.78 2.05 0 2.83L4 21.41c.39.39.9.59 1.41.59.51 0 1.02-.2 1.41-.59l7.78-7.78 2.81-2.81c.8-.78.8-2.07 0-2.86zM5.41 20L4 18.59l7.72-7.72 1.47 1.35L5.41 20z\"/>\n",
              "  </svg>\n",
              "      </button>\n",
              "      \n",
              "  <style>\n",
              "    .colab-df-container {\n",
              "      display:flex;\n",
              "      flex-wrap:wrap;\n",
              "      gap: 12px;\n",
              "    }\n",
              "\n",
              "    .colab-df-convert {\n",
              "      background-color: #E8F0FE;\n",
              "      border: none;\n",
              "      border-radius: 50%;\n",
              "      cursor: pointer;\n",
              "      display: none;\n",
              "      fill: #1967D2;\n",
              "      height: 32px;\n",
              "      padding: 0 0 0 0;\n",
              "      width: 32px;\n",
              "    }\n",
              "\n",
              "    .colab-df-convert:hover {\n",
              "      background-color: #E2EBFA;\n",
              "      box-shadow: 0px 1px 2px rgba(60, 64, 67, 0.3), 0px 1px 3px 1px rgba(60, 64, 67, 0.15);\n",
              "      fill: #174EA6;\n",
              "    }\n",
              "\n",
              "    [theme=dark] .colab-df-convert {\n",
              "      background-color: #3B4455;\n",
              "      fill: #D2E3FC;\n",
              "    }\n",
              "\n",
              "    [theme=dark] .colab-df-convert:hover {\n",
              "      background-color: #434B5C;\n",
              "      box-shadow: 0px 1px 3px 1px rgba(0, 0, 0, 0.15);\n",
              "      filter: drop-shadow(0px 1px 2px rgba(0, 0, 0, 0.3));\n",
              "      fill: #FFFFFF;\n",
              "    }\n",
              "  </style>\n",
              "\n",
              "      <script>\n",
              "        const buttonEl =\n",
              "          document.querySelector('#df-56466ed2-3fd3-4ed3-9744-50a040441913 button.colab-df-convert');\n",
              "        buttonEl.style.display =\n",
              "          google.colab.kernel.accessAllowed ? 'block' : 'none';\n",
              "\n",
              "        async function convertToInteractive(key) {\n",
              "          const element = document.querySelector('#df-56466ed2-3fd3-4ed3-9744-50a040441913');\n",
              "          const dataTable =\n",
              "            await google.colab.kernel.invokeFunction('convertToInteractive',\n",
              "                                                     [key], {});\n",
              "          if (!dataTable) return;\n",
              "\n",
              "          const docLinkHtml = 'Like what you see? Visit the ' +\n",
              "            '<a target=\"_blank\" href=https://colab.research.google.com/notebooks/data_table.ipynb>data table notebook</a>'\n",
              "            + ' to learn more about interactive tables.';\n",
              "          element.innerHTML = '';\n",
              "          dataTable['output_type'] = 'display_data';\n",
              "          await google.colab.output.renderOutput(dataTable, element);\n",
              "          const docLink = document.createElement('div');\n",
              "          docLink.innerHTML = docLinkHtml;\n",
              "          element.appendChild(docLink);\n",
              "        }\n",
              "      </script>\n",
              "    </div>\n",
              "  </div>\n",
              "  "
            ]
          },
          "metadata": {},
          "execution_count": 5
        }
      ],
      "source": [
        "df.head()"
      ]
    },
    {
      "cell_type": "code",
      "execution_count": null,
      "metadata": {
        "colab": {
          "base_uri": "https://localhost:8080/",
          "height": 160
        },
        "id": "i7G6oyGqsevO",
        "outputId": "f11f2201-32a0-4ab6-ca97-222a30989390"
      },
      "outputs": [
        {
          "output_type": "execute_result",
          "data": {
            "text/plain": [
              "Empty DataFrame\n",
              "Columns: [Unnamed: 0, MachineIdentifier, ProductName, EngineVersion, AppVersion, AvSigVersion, IsBeta, RtpStateBitfield, IsSxsPassiveMode, DefaultBrowsersIdentifier, AVProductStatesIdentifier, AVProductsInstalled, AVProductsEnabled, HasTpm, CountryIdentifier, CityIdentifier, OrganizationIdentifier, GeoNameIdentifier, LocaleEnglishNameIdentifier, Platform, Processor, OsVer, OsBuild, OsSuite, OsPlatformSubRelease, OsBuildLab, SkuEdition, IsProtected, AutoSampleOptIn, PuaMode, SMode, IeVerIdentifier, SmartScreen, Firewall, UacLuaenable, Census_MDC2FormFactor, Census_DeviceFamily, Census_OEMNameIdentifier, Census_OEMModelIdentifier, Census_ProcessorCoreCount, Census_ProcessorManufacturerIdentifier, Census_ProcessorModelIdentifier, Census_ProcessorClass, Census_PrimaryDiskTotalCapacity, Census_PrimaryDiskTypeName, Census_SystemVolumeTotalCapacity, Census_HasOpticalDiskDrive, Census_TotalPhysicalRAM, Census_ChassisTypeName, Census_InternalPrimaryDiagonalDisplaySizeInInches, Census_InternalPrimaryDisplayResolutionHorizontal, Census_InternalPrimaryDisplayResolutionVertical, Census_PowerPlatformRoleName, Census_InternalBatteryType, Census_InternalBatteryNumberOfCharges, Census_OSVersion, Census_OSArchitecture, Census_OSBranch, Census_OSBuildNumber, Census_OSBuildRevision, Census_OSEdition, Census_OSSkuName, Census_OSInstallTypeName, Census_OSInstallLanguageIdentifier, Census_OSUILocaleIdentifier, Census_OSWUAutoUpdateOptionsName, Census_IsPortableOperatingSystem, Census_GenuineStateName, Census_ActivationChannel, Census_IsFlightingInternal, Census_IsFlightsDisabled, Census_FlightRing, Census_ThresholdOptIn, Census_FirmwareManufacturerIdentifier, Census_FirmwareVersionIdentifier, Census_IsSecureBootEnabled, Census_IsWIMBootEnabled, Census_IsVirtualDevice, Census_IsTouchEnabled, Census_IsPenCapable, Census_IsAlwaysOnAlwaysConnectedCapable, Wdft_IsGamer, Wdft_RegionIdentifier, HasDetections]\n",
              "Index: []\n",
              "\n",
              "[0 rows x 84 columns]"
            ],
            "text/html": [
              "\n",
              "  <div id=\"df-fd42d152-bc8e-41c6-8f18-9dd59d5481f6\">\n",
              "    <div class=\"colab-df-container\">\n",
              "      <div>\n",
              "<style scoped>\n",
              "    .dataframe tbody tr th:only-of-type {\n",
              "        vertical-align: middle;\n",
              "    }\n",
              "\n",
              "    .dataframe tbody tr th {\n",
              "        vertical-align: top;\n",
              "    }\n",
              "\n",
              "    .dataframe thead th {\n",
              "        text-align: right;\n",
              "    }\n",
              "</style>\n",
              "<table border=\"1\" class=\"dataframe\">\n",
              "  <thead>\n",
              "    <tr style=\"text-align: right;\">\n",
              "      <th></th>\n",
              "      <th>Unnamed: 0</th>\n",
              "      <th>MachineIdentifier</th>\n",
              "      <th>ProductName</th>\n",
              "      <th>EngineVersion</th>\n",
              "      <th>AppVersion</th>\n",
              "      <th>AvSigVersion</th>\n",
              "      <th>IsBeta</th>\n",
              "      <th>RtpStateBitfield</th>\n",
              "      <th>IsSxsPassiveMode</th>\n",
              "      <th>DefaultBrowsersIdentifier</th>\n",
              "      <th>...</th>\n",
              "      <th>Census_FirmwareVersionIdentifier</th>\n",
              "      <th>Census_IsSecureBootEnabled</th>\n",
              "      <th>Census_IsWIMBootEnabled</th>\n",
              "      <th>Census_IsVirtualDevice</th>\n",
              "      <th>Census_IsTouchEnabled</th>\n",
              "      <th>Census_IsPenCapable</th>\n",
              "      <th>Census_IsAlwaysOnAlwaysConnectedCapable</th>\n",
              "      <th>Wdft_IsGamer</th>\n",
              "      <th>Wdft_RegionIdentifier</th>\n",
              "      <th>HasDetections</th>\n",
              "    </tr>\n",
              "  </thead>\n",
              "  <tbody>\n",
              "  </tbody>\n",
              "</table>\n",
              "<p>0 rows × 84 columns</p>\n",
              "</div>\n",
              "      <button class=\"colab-df-convert\" onclick=\"convertToInteractive('df-fd42d152-bc8e-41c6-8f18-9dd59d5481f6')\"\n",
              "              title=\"Convert this dataframe to an interactive table.\"\n",
              "              style=\"display:none;\">\n",
              "        \n",
              "  <svg xmlns=\"http://www.w3.org/2000/svg\" height=\"24px\"viewBox=\"0 0 24 24\"\n",
              "       width=\"24px\">\n",
              "    <path d=\"M0 0h24v24H0V0z\" fill=\"none\"/>\n",
              "    <path d=\"M18.56 5.44l.94 2.06.94-2.06 2.06-.94-2.06-.94-.94-2.06-.94 2.06-2.06.94zm-11 1L8.5 8.5l.94-2.06 2.06-.94-2.06-.94L8.5 2.5l-.94 2.06-2.06.94zm10 10l.94 2.06.94-2.06 2.06-.94-2.06-.94-.94-2.06-.94 2.06-2.06.94z\"/><path d=\"M17.41 7.96l-1.37-1.37c-.4-.4-.92-.59-1.43-.59-.52 0-1.04.2-1.43.59L10.3 9.45l-7.72 7.72c-.78.78-.78 2.05 0 2.83L4 21.41c.39.39.9.59 1.41.59.51 0 1.02-.2 1.41-.59l7.78-7.78 2.81-2.81c.8-.78.8-2.07 0-2.86zM5.41 20L4 18.59l7.72-7.72 1.47 1.35L5.41 20z\"/>\n",
              "  </svg>\n",
              "      </button>\n",
              "      \n",
              "  <style>\n",
              "    .colab-df-container {\n",
              "      display:flex;\n",
              "      flex-wrap:wrap;\n",
              "      gap: 12px;\n",
              "    }\n",
              "\n",
              "    .colab-df-convert {\n",
              "      background-color: #E8F0FE;\n",
              "      border: none;\n",
              "      border-radius: 50%;\n",
              "      cursor: pointer;\n",
              "      display: none;\n",
              "      fill: #1967D2;\n",
              "      height: 32px;\n",
              "      padding: 0 0 0 0;\n",
              "      width: 32px;\n",
              "    }\n",
              "\n",
              "    .colab-df-convert:hover {\n",
              "      background-color: #E2EBFA;\n",
              "      box-shadow: 0px 1px 2px rgba(60, 64, 67, 0.3), 0px 1px 3px 1px rgba(60, 64, 67, 0.15);\n",
              "      fill: #174EA6;\n",
              "    }\n",
              "\n",
              "    [theme=dark] .colab-df-convert {\n",
              "      background-color: #3B4455;\n",
              "      fill: #D2E3FC;\n",
              "    }\n",
              "\n",
              "    [theme=dark] .colab-df-convert:hover {\n",
              "      background-color: #434B5C;\n",
              "      box-shadow: 0px 1px 3px 1px rgba(0, 0, 0, 0.15);\n",
              "      filter: drop-shadow(0px 1px 2px rgba(0, 0, 0, 0.3));\n",
              "      fill: #FFFFFF;\n",
              "    }\n",
              "  </style>\n",
              "\n",
              "      <script>\n",
              "        const buttonEl =\n",
              "          document.querySelector('#df-fd42d152-bc8e-41c6-8f18-9dd59d5481f6 button.colab-df-convert');\n",
              "        buttonEl.style.display =\n",
              "          google.colab.kernel.accessAllowed ? 'block' : 'none';\n",
              "\n",
              "        async function convertToInteractive(key) {\n",
              "          const element = document.querySelector('#df-fd42d152-bc8e-41c6-8f18-9dd59d5481f6');\n",
              "          const dataTable =\n",
              "            await google.colab.kernel.invokeFunction('convertToInteractive',\n",
              "                                                     [key], {});\n",
              "          if (!dataTable) return;\n",
              "\n",
              "          const docLinkHtml = 'Like what you see? Visit the ' +\n",
              "            '<a target=\"_blank\" href=https://colab.research.google.com/notebooks/data_table.ipynb>data table notebook</a>'\n",
              "            + ' to learn more about interactive tables.';\n",
              "          element.innerHTML = '';\n",
              "          dataTable['output_type'] = 'display_data';\n",
              "          await google.colab.output.renderOutput(dataTable, element);\n",
              "          const docLink = document.createElement('div');\n",
              "          docLink.innerHTML = docLinkHtml;\n",
              "          element.appendChild(docLink);\n",
              "        }\n",
              "      </script>\n",
              "    </div>\n",
              "  </div>\n",
              "  "
            ]
          },
          "metadata": {},
          "execution_count": 6
        }
      ],
      "source": [
        "df[df.duplicated(keep=False)]"
      ]
    },
    {
      "cell_type": "code",
      "execution_count": null,
      "metadata": {
        "id": "VDdNYMaaR_Jq"
      },
      "outputs": [],
      "source": [
        "df.drop(\"Unnamed: 0\", axis=1, inplace=True)"
      ]
    },
    {
      "cell_type": "markdown",
      "metadata": {
        "id": "HvXWwM0FmAem"
      },
      "source": [
        "# Define target"
      ]
    },
    {
      "cell_type": "code",
      "execution_count": null,
      "metadata": {
        "id": "iyw8AdtHl_0H"
      },
      "outputs": [],
      "source": [
        "target = 'HasDetections'"
      ]
    },
    {
      "cell_type": "markdown",
      "metadata": {
        "id": "8acTfAWMYxDz"
      },
      "source": [
        "# Preprocessing"
      ]
    },
    {
      "cell_type": "code",
      "execution_count": null,
      "metadata": {
        "id": "vAA4ttBtJRA6"
      },
      "outputs": [],
      "source": [
        "Numerical = selector(dtype_exclude=\"object\")\n",
        "categorical = selector(dtype_include = \"object\")\n",
        "Numerical_columns= Numerical(df)\n",
        "categorical_columns = categorical(df)\n",
        "binary_columns = [col for col in Numerical_columns if len(df[col].dropna().unique()) == 2]\n",
        "Numerical_columns = [col for col in Numerical_columns if col not in binary_columns]\n",
        "binary_columns.remove(target)\n",
        "numerical_float_columns = ['Census_SystemVolumeTotalCapacity','Census_InternalBatteryNumberOfCharges','CountryIdentifier']\n"
      ]
    },
    {
      "cell_type": "code",
      "execution_count": null,
      "metadata": {
        "id": "Fl7lF0rQ4pZd"
      },
      "outputs": [],
      "source": [
        "#categorical_columns.append(col)"
      ]
    },
    {
      "cell_type": "code",
      "execution_count": null,
      "metadata": {
        "id": "FEbQBCzlNQqx"
      },
      "outputs": [],
      "source": [
        "for col in categorical_columns:\n",
        "    df[col] = df[col].astype(object)"
      ]
    },
    {
      "cell_type": "code",
      "execution_count": null,
      "metadata": {
        "id": "sIc8JCi04PIY"
      },
      "outputs": [],
      "source": [
        "l_cat_ordinal = ['Census_InternalPrimaryDiagonalDisplaySizeInInches','Census_InternalPrimaryDisplayResolutionHorizontal', 'AppVersion','AvSigVersion',\n",
        "'Census_InternalPrimaryDisplayResolutionVertical','Census_OSInstallLanguageIdentifier'] "
      ]
    },
    {
      "cell_type": "code",
      "source": [
        "df['AppVersion'] = df['AppVersion'].str[0:4]"
      ],
      "metadata": {
        "id": "MYFd7UEpgMlm"
      },
      "execution_count": null,
      "outputs": []
    },
    {
      "cell_type": "code",
      "source": [
        "df['AvSigVersion'] = df['AvSigVersion'].str[0:4]"
      ],
      "metadata": {
        "id": "8QzoYiNig0hr"
      },
      "execution_count": null,
      "outputs": []
    },
    {
      "cell_type": "code",
      "source": [
        "df['EngineVersion'].str[4:9].astype('int').sort_values(ascending= False).unique()"
      ],
      "metadata": {
        "colab": {
          "base_uri": "https://localhost:8080/"
        },
        "id": "sWL-_TWUiiDM",
        "outputId": "874a0130-045b-4e0d-e1fd-d7b44cf1f9a5"
      },
      "execution_count": null,
      "outputs": [
        {
          "output_type": "execute_result",
          "data": {
            "text/plain": [
              "array([15300, 15200, 15100, 15000, 14901, 14800, 14700, 14600, 14500,\n",
              "       14405, 14306, 14305, 14303, 14202, 14201, 14104, 14103, 14102,\n",
              "       14003, 14002, 14001, 13903, 13902, 13804, 13803, 13802, 13704,\n",
              "       13701, 13601, 13504, 13407, 13406, 13303, 13202, 13103, 13102,\n",
              "       13000, 12902, 12805, 12804, 12706, 12603, 12400, 12101, 11701,\n",
              "       10401])"
            ]
          },
          "metadata": {},
          "execution_count": 15
        }
      ]
    },
    {
      "cell_type": "code",
      "source": [
        "df['EngineVersion'] = np.where(df['EngineVersion'].str[4:9].isin(['15200','15100','15000','14901']),df['EngineVersion'].str[4:9]\n",
        ",\"otros\")"
      ],
      "metadata": {
        "id": "F0a0e6NzkzyK"
      },
      "execution_count": null,
      "outputs": []
    },
    {
      "cell_type": "code",
      "source": [
        "mapeos = {\"15200\" : \"1\",\n",
        "                     \"15100\" : \"2\",\n",
        "                     \"15000\" : \"3\",\n",
        "                     \"14901\" : \"4\",\n",
        "\"otros\":\"otros\"}\n",
        "\n",
        "\n",
        "\n",
        "df[\"EngineVersion\"] = df[\"EngineVersion\"].map(mapeos)"
      ],
      "metadata": {
        "id": "ku536srsl57g"
      },
      "execution_count": null,
      "outputs": []
    },
    {
      "cell_type": "code",
      "source": [
        "df['EngineVersion'].value_counts()"
      ],
      "metadata": {
        "colab": {
          "base_uri": "https://localhost:8080/"
        },
        "id": "eqjaem4ihGu0",
        "outputId": "ff4d1a9b-7ed8-4218-9e4d-aa968ceb24a7"
      },
      "execution_count": null,
      "outputs": [
        {
          "output_type": "execute_result",
          "data": {
            "text/plain": [
              "1        216491\n",
              "2        205494\n",
              "otros     51070\n",
              "3         14890\n",
              "4         12055\n",
              "Name: EngineVersion, dtype: int64"
            ]
          },
          "metadata": {},
          "execution_count": 18
        }
      ]
    },
    {
      "cell_type": "code",
      "source": [
        "df['AppVersion'].value_counts()"
      ],
      "metadata": {
        "colab": {
          "base_uri": "https://localhost:8080/"
        },
        "id": "mvzurqeKdCKa",
        "outputId": "5b15d536-6c51-4bfb-d334-6a92a7f18969"
      },
      "execution_count": null,
      "outputs": [
        {
          "output_type": "execute_result",
          "data": {
            "text/plain": [
              "4.18    337243\n",
              "4.12     30836\n",
              "4.13     29076\n",
              "4.10     25633\n",
              "4.9.     23256\n",
              "4.8.     15309\n",
              "4.14     13727\n",
              "4.16     13189\n",
              "4.11     11458\n",
              "4.5.       126\n",
              "4.7.        46\n",
              "4.6.        44\n",
              "4.4.        27\n",
              "4.17        22\n",
              "4.15         8\n",
              "Name: AppVersion, dtype: int64"
            ]
          },
          "metadata": {},
          "execution_count": 19
        }
      ]
    },
    {
      "cell_type": "code",
      "source": [
        "df['AvSigVersion'].value_counts()"
      ],
      "metadata": {
        "colab": {
          "base_uri": "https://localhost:8080/"
        },
        "id": "BWkYo6JpdJOh",
        "outputId": "1a122121-06c5-4dc3-8abc-f475ccd0f3a1"
      },
      "execution_count": null,
      "outputs": [
        {
          "output_type": "execute_result",
          "data": {
            "text/plain": [
              "1.27    447343\n",
              "1.26     34152\n",
              "1.25      9678\n",
              "1.23      5539\n",
              "1.24      2372\n",
              "1.22       896\n",
              "1.20         7\n",
              "1.21         5\n",
              "0.0.         4\n",
              "1.19         3\n",
              "1.16         1\n",
              "Name: AvSigVersion, dtype: int64"
            ]
          },
          "metadata": {},
          "execution_count": 20
        }
      ]
    },
    {
      "cell_type": "code",
      "execution_count": null,
      "metadata": {
        "id": "27WEvhdZ5Vuy"
      },
      "outputs": [],
      "source": [
        "for col in df[categorical_columns]:\n",
        "  if col in l_cat_ordinal:\n",
        "    categorical_columns.remove(col)"
      ]
    },
    {
      "cell_type": "code",
      "execution_count": null,
      "metadata": {
        "colab": {
          "base_uri": "https://localhost:8080/"
        },
        "id": "XOEBx0hLlxoy",
        "outputId": "e7820629-9c1b-4245-d69f-5dd2dc606347"
      },
      "outputs": [
        {
          "output_type": "execute_result",
          "data": {
            "text/plain": [
              "['Census_SystemVolumeTotalCapacity',\n",
              " 'Census_InternalBatteryNumberOfCharges',\n",
              " 'CountryIdentifier']"
            ]
          },
          "metadata": {},
          "execution_count": 22
        }
      ],
      "source": [
        "numerical_float_columns"
      ]
    },
    {
      "cell_type": "code",
      "execution_count": null,
      "metadata": {
        "colab": {
          "base_uri": "https://localhost:8080/"
        },
        "id": "1S9FOyBVl27n",
        "outputId": "bed65154-79e3-4af8-b1a2-5f4cbb4bab96"
      },
      "outputs": [
        {
          "output_type": "execute_result",
          "data": {
            "text/plain": [
              "['MachineIdentifier',\n",
              " 'ProductName',\n",
              " 'EngineVersion',\n",
              " 'Platform',\n",
              " 'Processor',\n",
              " 'OsVer',\n",
              " 'OsPlatformSubRelease',\n",
              " 'OsBuildLab',\n",
              " 'SkuEdition',\n",
              " 'PuaMode',\n",
              " 'SmartScreen',\n",
              " 'Census_MDC2FormFactor',\n",
              " 'Census_DeviceFamily',\n",
              " 'Census_ProcessorClass',\n",
              " 'Census_PrimaryDiskTypeName',\n",
              " 'Census_ChassisTypeName',\n",
              " 'Census_PowerPlatformRoleName',\n",
              " 'Census_InternalBatteryType',\n",
              " 'Census_OSVersion',\n",
              " 'Census_OSArchitecture',\n",
              " 'Census_OSBranch',\n",
              " 'Census_OSEdition',\n",
              " 'Census_OSSkuName',\n",
              " 'Census_OSInstallTypeName',\n",
              " 'Census_OSWUAutoUpdateOptionsName',\n",
              " 'Census_GenuineStateName',\n",
              " 'Census_ActivationChannel',\n",
              " 'Census_FlightRing']"
            ]
          },
          "metadata": {},
          "execution_count": 23
        }
      ],
      "source": [
        "categorical_columns"
      ]
    },
    {
      "cell_type": "code",
      "execution_count": null,
      "metadata": {
        "id": "oI82KIKg7Wdc"
      },
      "outputs": [],
      "source": [
        "#from sklearn.preprocessing import OrdinalEncoder"
      ]
    },
    {
      "cell_type": "code",
      "execution_count": null,
      "metadata": {
        "id": "O5c0ULy57aoC"
      },
      "outputs": [],
      "source": [
        "#enc = OrdinalEncoder"
      ]
    },
    {
      "cell_type": "code",
      "execution_count": null,
      "metadata": {
        "id": "jo0iICVX7b5L"
      },
      "outputs": [],
      "source": [
        "#for col in df[l_cat_ordinal]:\n",
        "  #df[col] = OrdinalEncoder().fit_transform(df[col].values.reshape(-1,1))\n",
        "  #print(df[col].value_counts())"
      ]
    },
    {
      "cell_type": "code",
      "execution_count": null,
      "metadata": {
        "colab": {
          "base_uri": "https://localhost:8080/"
        },
        "id": "qmNfSNMu7jYs",
        "outputId": "6724e0bc-e4da-457e-f53c-b5afe22da548"
      },
      "outputs": [
        {
          "output_type": "execute_result",
          "data": {
            "text/plain": [
              "(500000, 83)"
            ]
          },
          "metadata": {},
          "execution_count": 27
        }
      ],
      "source": [
        "df.shape"
      ]
    },
    {
      "cell_type": "code",
      "execution_count": null,
      "metadata": {
        "id": "UAs_wMj0xgSy"
      },
      "outputs": [],
      "source": [
        "#df_sub = df.sample(50,random_state=42)"
      ]
    },
    {
      "cell_type": "code",
      "execution_count": null,
      "metadata": {
        "id": "nSyHGaEwx0bZ"
      },
      "outputs": [],
      "source": [
        "#df_sub.shape"
      ]
    },
    {
      "cell_type": "markdown",
      "metadata": {
        "id": "Rwvb_8jJYkJq"
      },
      "source": [
        "## EDA: Analysis"
      ]
    },
    {
      "cell_type": "markdown",
      "metadata": {
        "id": "-isx8tpFpF87"
      },
      "source": [
        "### Target distribution"
      ]
    },
    {
      "cell_type": "code",
      "execution_count": null,
      "metadata": {
        "colab": {
          "base_uri": "https://localhost:8080/",
          "height": 334
        },
        "id": "RHHBQ_W0JUR3",
        "outputId": "9b00d6e6-4896-48e1-d595-0eaa467801f7"
      },
      "outputs": [
        {
          "output_type": "display_data",
          "data": {
            "text/plain": [
              "<Figure size 360x360 with 1 Axes>"
            ],
            "image/png": "[encoded data removed]"
          },
          "metadata": {
            "needs_background": "light"
          }
        }
      ],
      "source": [
        "f, ax = plt.subplots(figsize=(5, 5))\n",
        "ax = sns.countplot(x=\"HasDetections\", data=df, label=\"Label Count\")\n",
        "sns.despine(bottom=True)"
      ]
    },
    {
      "cell_type": "markdown",
      "metadata": {
        "id": "uREYzhY3oTmV"
      },
      "source": [
        "### Univariate analysis"
      ]
    },
    {
      "cell_type": "markdown",
      "metadata": {
        "id": "v1YyQI4toei3"
      },
      "source": [
        "* En numericas .describe() para describir, KDEplots, distplots o histogramas en variables numericas para visualizar.\n",
        "* En categoricas .value_counts() para describir, countplots o barplots para visualizar."
      ]
    },
    {
      "cell_type": "code",
      "execution_count": null,
      "metadata": {
        "colab": {
          "base_uri": "https://localhost:8080/",
          "height": 835
        },
        "id": "H-oV72WjbDKh",
        "outputId": "8bffe4cf-cffa-4ef0-9b22-acc059192e46"
      },
      "outputs": [
        {
          "output_type": "display_data",
          "data": {
            "text/plain": [
              "<Figure size 432x288 with 1 Axes>"
            ],
            "image/png": "[encoded data removed]"
          },
          "metadata": {
            "needs_background": "light"
          }
        },
        {
          "output_type": "display_data",
          "data": {
            "text/plain": [
              "<Figure size 432x288 with 1 Axes>"
            ],
            "image/png": "[encoded data removed]"
          },
          "metadata": {
            "needs_background": "light"
          }
        },
        {
          "output_type": "display_data",
          "data": {
            "text/plain": [
              "<Figure size 432x288 with 1 Axes>"
            ],
            "image/png": "[encoded data removed]"
          },
          "metadata": {
            "needs_background": "light"
          }
        }
      ],
      "source": [
        "for i in numerical_float_columns:\n",
        "  df.hist(i)"
      ]
    },
    {
      "cell_type": "code",
      "source": [
        "df[\"Census_TotalPhysicalRAM\"].value_counts()"
      ],
      "metadata": {
        "colab": {
          "base_uri": "https://localhost:8080/"
        },
        "id": "47prRHwZ8vAo",
        "outputId": "37130f55-b056-4453-8ae4-bff2061c3e9a"
      },
      "execution_count": null,
      "outputs": [
        {
          "output_type": "execute_result",
          "data": {
            "text/plain": [
              "4096.0     228678\n",
              "8192.0     123174\n",
              "2048.0      61694\n",
              "16384.0     30179\n",
              "6144.0      22349\n",
              "            ...  \n",
              "12963.0         1\n",
              "5791.0          1\n",
              "4124.0          1\n",
              "5039.0          1\n",
              "4120.0          1\n",
              "Name: Census_TotalPhysicalRAM, Length: 552, dtype: int64"
            ]
          },
          "metadata": {},
          "execution_count": 32
        }
      ]
    },
    {
      "cell_type": "code",
      "source": [
        "df[\"Census_TotalPhysicalRAM\"] = np.where(df[\"Census_TotalPhysicalRAM\"]<=4096,\"<=4gb\",\"+4gb\")"
      ],
      "metadata": {
        "id": "lmrWfaEm9Y-f"
      },
      "execution_count": null,
      "outputs": []
    },
    {
      "cell_type": "code",
      "source": [
        "df['Census_ProcessorCoreCount'] = np.where(df['Census_ProcessorCoreCount'].isin([4.0,2.0]),df['Census_ProcessorCoreCount']\n",
        ",\"otros\")"
      ],
      "metadata": {
        "id": "cE9YWQvm-2Vm"
      },
      "execution_count": null,
      "outputs": []
    },
    {
      "cell_type": "code",
      "source": [
        "df['Census_ProcessorCoreCount'].value_counts()"
      ],
      "metadata": {
        "colab": {
          "base_uri": "https://localhost:8080/"
        },
        "id": "OyC1P__W_yiu",
        "outputId": "2860e9dc-4286-4057-f73d-3404436f80b1"
      },
      "execution_count": null,
      "outputs": [
        {
          "output_type": "execute_result",
          "data": {
            "text/plain": [
              "4.0      304102\n",
              "2.0      129178\n",
              "otros     66720\n",
              "Name: Census_ProcessorCoreCount, dtype: int64"
            ]
          },
          "metadata": {},
          "execution_count": 35
        }
      ]
    },
    {
      "cell_type": "code",
      "source": [
        "df[\"Census_PrimaryDiskTotalCapacity\"].value_counts()"
      ],
      "metadata": {
        "colab": {
          "base_uri": "https://localhost:8080/"
        },
        "id": "5sGdXJDoAI_B",
        "outputId": "11ca90f9-f3ce-4cc5-88df-6f651ab1c21d"
      },
      "execution_count": null,
      "outputs": [
        {
          "output_type": "execute_result",
          "data": {
            "text/plain": [
              "476940.0    158683\n",
              "953869.0    122183\n",
              "305245.0     26687\n",
              "122104.0     26444\n",
              "244198.0     25159\n",
              "             ...  \n",
              "948333.0         1\n",
              "20646.0          1\n",
              "122069.0         1\n",
              "190652.0         1\n",
              "152499.0         1\n",
              "Name: Census_PrimaryDiskTotalCapacity, Length: 1103, dtype: int64"
            ]
          },
          "metadata": {},
          "execution_count": 36
        }
      ]
    },
    {
      "cell_type": "code",
      "source": [
        "df[\"Census_PrimaryDiskTotalCapacity\"] = np.where(df[\"Census_PrimaryDiskTotalCapacity\"]<=512600,\"<=500gb\",\"+500gb\")"
      ],
      "metadata": {
        "id": "pN5sNcW1AlME"
      },
      "execution_count": null,
      "outputs": []
    },
    {
      "cell_type": "code",
      "source": [
        "df[\"Census_SystemVolumeTotalCapacity\"].value_counts()"
      ],
      "metadata": {
        "colab": {
          "base_uri": "https://localhost:8080/"
        },
        "id": "MOKTxI_XCVGV",
        "outputId": "c9c2b10d-659e-4691-e69f-a6bbaaa5b391"
      },
      "execution_count": null,
      "outputs": [
        {
          "output_type": "execute_result",
          "data": {
            "text/plain": [
              "28542.0     2922\n",
              "926992.0    2866\n",
              "476389.0    2380\n",
              "476324.0    2306\n",
              "102400.0    2303\n",
              "            ... \n",
              "221517.0       1\n",
              "580181.0       1\n",
              "127615.0       1\n",
              "236484.0       1\n",
              "470309.0       1\n",
              "Name: Census_SystemVolumeTotalCapacity, Length: 142051, dtype: int64"
            ]
          },
          "metadata": {},
          "execution_count": 38
        }
      ]
    },
    {
      "cell_type": "code",
      "execution_count": null,
      "metadata": {
        "colab": {
          "base_uri": "https://localhost:8080/"
        },
        "id": "Snn5jPHvFw90",
        "outputId": "fe4590e0-61bb-4bd5-8116-7572810eac78"
      },
      "outputs": [
        {
          "output_type": "stream",
          "name": "stdout",
          "text": [
            "28542.0     2922\n",
            "926992.0    2866\n",
            "476389.0    2380\n",
            "476324.0    2306\n",
            "102400.0    2303\n",
            "            ... \n",
            "221517.0       1\n",
            "580181.0       1\n",
            "127615.0       1\n",
            "236484.0       1\n",
            "470309.0       1\n",
            "Name: Census_SystemVolumeTotalCapacity, Length: 142051, dtype: int64\n",
            "0.000000e+00    283189\n",
            "4.294967e+09    126436\n",
            "1.000000e+00      2955\n",
            "1.600000e+01      1517\n",
            "2.000000e+00      1503\n",
            "                 ...  \n",
            "8.331000e+03         1\n",
            "5.772700e+04         1\n",
            "1.030000e+03         1\n",
            "4.354400e+04         1\n",
            "1.900000e+03         1\n",
            "Name: Census_InternalBatteryNumberOfCharges, Length: 5248, dtype: int64\n",
            "43     22339\n",
            "29     19273\n",
            "141    18420\n",
            "93     16205\n",
            "171    15743\n",
            "       ...  \n",
            "212       13\n",
            "37        12\n",
            "165       11\n",
            "217       10\n",
            "193        9\n",
            "Name: CountryIdentifier, Length: 222, dtype: int64\n"
          ]
        }
      ],
      "source": [
        "for i in numerical_float_columns:\n",
        "  print(df[i].value_counts())"
      ]
    },
    {
      "cell_type": "code",
      "execution_count": null,
      "metadata": {
        "colab": {
          "base_uri": "https://localhost:8080/"
        },
        "id": "Q3JFZTN2ECeO",
        "outputId": "bacf1525-0d09-4716-f384-f1223279701b"
      },
      "outputs": [
        {
          "output_type": "stream",
          "name": "stdout",
          "text": [
            "0    499999\n",
            "1         1\n",
            "Name: IsBeta, dtype: int64\n",
            "0    491379\n",
            "1      8621\n",
            "Name: IsSxsPassiveMode, dtype: int64\n",
            "1    493908\n",
            "0      6092\n",
            "Name: HasTpm, dtype: int64\n",
            "1.0    471073\n",
            "0.0     27001\n",
            "Name: IsProtected, dtype: int64\n",
            "0    499986\n",
            "1        14\n",
            "Name: AutoSampleOptIn, dtype: int64\n",
            "0.0    469946\n",
            "1.0       206\n",
            "Name: SMode, dtype: int64\n",
            "1.0    484071\n",
            "0.0     10767\n",
            "Name: Firewall, dtype: int64\n",
            "0    461483\n",
            "1     38517\n",
            "Name: Census_HasOpticalDiskDrive, dtype: int64\n",
            "0    499739\n",
            "1       261\n",
            "Name: Census_IsPortableOperatingSystem, dtype: int64\n",
            "0.0    84773\n",
            "1.0        2\n",
            "Name: Census_IsFlightingInternal, dtype: int64\n",
            "0.0    491060\n",
            "1.0         7\n",
            "Name: Census_IsFlightsDisabled, dtype: int64\n",
            "0.0    181849\n",
            "1.0        47\n",
            "Name: Census_ThresholdOptIn, dtype: int64\n",
            "0    257281\n",
            "1    242719\n",
            "Name: Census_IsSecureBootEnabled, dtype: int64\n",
            "0.0    495572\n",
            "1.0      3527\n",
            "Name: Census_IsVirtualDevice, dtype: int64\n",
            "0    437283\n",
            "1     62717\n",
            "Name: Census_IsTouchEnabled, dtype: int64\n",
            "0    481128\n",
            "1     18872\n",
            "Name: Census_IsPenCapable, dtype: int64\n",
            "0.0    467569\n",
            "1.0     28391\n",
            "Name: Census_IsAlwaysOnAlwaysConnectedCapable, dtype: int64\n",
            "0.0    345835\n",
            "1.0    137215\n",
            "Name: Wdft_IsGamer, dtype: int64\n"
          ]
        }
      ],
      "source": [
        "for i in binary_columns:\n",
        "  print(df[i].value_counts())"
      ]
    },
    {
      "cell_type": "code",
      "source": [
        "df['OsSuite'].value_counts()"
      ],
      "metadata": {
        "colab": {
          "base_uri": "https://localhost:8080/"
        },
        "id": "E6C8orP4cF5u",
        "outputId": "0b8d1511-da21-494c-fa2e-ab30d6fe5198"
      },
      "execution_count": null,
      "outputs": [
        {
          "output_type": "execute_result",
          "data": {
            "text/plain": [
              "768    311226\n",
              "256    187951\n",
              "272       677\n",
              "16         53\n",
              "400        47\n",
              "305        33\n",
              "784        10\n",
              "274         2\n",
              "18          1\n",
              "Name: OsSuite, dtype: int64"
            ]
          },
          "metadata": {},
          "execution_count": 41
        }
      ]
    },
    {
      "cell_type": "code",
      "source": [
        "df.drop(columns=[\"IsBeta\", \"IsSxsPassiveMode\",'HasTpm',\"IsProtected\",\"AutoSampleOptIn\",\"SMode\",\"Firewall\",\"Census_IsPortableOperatingSystem\",\"Census_IsFlightingInternal\",\"Census_IsFlightsDisabled\",\"Census_IsFlightsDisabled\",\"Census_ThresholdOptIn\", \"Census_IsVirtualDevice\"], inplace=True)"
      ],
      "metadata": {
        "id": "IPbQ1M8fFBVD"
      },
      "execution_count": null,
      "outputs": []
    },
    {
      "cell_type": "code",
      "source": [
        "columnasborradas =[\"IsBeta\", \"IsSxsPassiveMode\",'HasTpm',\"IsProtected\",\"AutoSampleOptIn\",\"SMode\",\"Firewall\",\n",
        "                   \"Census_IsPortableOperatingSystem\",\"Census_IsFlightingInternal\",\n",
        "                   \"Census_IsFlightsDisabled\",\"Census_IsFlightsDisabled\",\"Census_ThresholdOptIn\", \"Census_IsVirtualDevice\"]\n",
        "binary_columns =[col for col in binary_columns if col not in columnasborradas]"
      ],
      "metadata": {
        "id": "YhFX6g5LGxgl"
      },
      "execution_count": null,
      "outputs": []
    },
    {
      "cell_type": "code",
      "source": [
        "df.drop(columns=[\"MachineIdentifier\", \"ProductName\", \"RtpStateBitfield\", \"DefaultBrowsersIdentifier\",\"Census_OEMNameIdentifier\",\"Census_ProcessorModelIdentifier\",\n",
        "                 \"Census_OEMModelIdentifier\", \"AVProductsEnabled\", \"CityIdentifier\", \"OrganizationIdentifier\", \"GeoNameIdentifier\",\"Census_OSVersion\",\n",
        "                 \"Platform\", \"Processor\",\"PuaMode\",\"UacLuaenable\", \"Census_DeviceFamily\",\"Census_ChassisTypeName\", \"Census_InternalBatteryType\",\n",
        "                 \"Census_OSBuildRevision\", \"Census_OSSkuName\",\"Census_OSUILocaleIdentifier\", \"Census_GenuineStateName\",\"Census_FlightRing\",\"OsBuildLab\",\n",
        "                 \"Census_PowerPlatformRoleName\" ,\"Census_FirmwareVersionIdentifier\", \"Census_IsWIMBootEnabled\", \"Wdft_RegionIdentifier\",\"OsVer\"], inplace=True)"
      ],
      "metadata": {
        "id": "jCspyyR0HNiz"
      },
      "execution_count": null,
      "outputs": []
    },
    {
      "cell_type": "code",
      "source": [
        "columnasborradas =[\"MachineIdentifier\", \"ProductName\", \"RtpStateBitfield\", \"DefaultBrowsersIdentifier\",\"Census_OSVersion\",\n",
        "                     \"AVProductsEnabled\", \"CityIdentifier\", \"OrganizationIdentifier\", \"GeoNameIdentifier\",\"Platform\", \n",
        "                   \"Processor\",\"PuaMode\",\"UacLuaenable\", \"Census_DeviceFamily\",\"Census_ChassisTypeName\",\"OsBuildLab\",\n",
        "                   \"Census_InternalBatteryType\",\"Census_OSBuildRevision\", \"Census_OSSkuName\",\"Census_OSUILocaleIdentifier\",\n",
        "                   \"Census_GenuineStateName\",\"Census_FlightRing\",\"Census_FirmwareVersionIdentifier\", \"Census_IsWIMBootEnabled\",'Census_ProcessorModelIdentifier',\n",
        "                   \"Wdft_RegionIdentifier\",\"OsVer\",\"Census_PowerPlatformRoleName\", \"Census_OEMNameIdentifier\",\"Census_OEMModelIdentifier\"]\n",
        "categorical_columns =[col for col in categorical_columns if col not in columnasborradas]"
      ],
      "metadata": {
        "id": "N8FNY1iZFm-t"
      },
      "execution_count": null,
      "outputs": []
    },
    {
      "cell_type": "code",
      "source": [
        "df['OsSuite'] = np.where(df['OsSuite'].isin([768,256]),df['OsSuite']\n",
        ",\"otros\")"
      ],
      "metadata": {
        "id": "AqqjLsbCJPJa"
      },
      "execution_count": null,
      "outputs": []
    },
    {
      "cell_type": "code",
      "source": [
        "df['SkuEdition'] = np.where(df['SkuEdition'].isin([\"Home\",\"Pro\"]),df['SkuEdition']\n",
        ",\"otros\")"
      ],
      "metadata": {
        "id": "ljuuApuUJxdN"
      },
      "execution_count": null,
      "outputs": []
    },
    {
      "cell_type": "code",
      "source": [
        "df[\"IeVerIdentifier\"] =np.where(df[\"IeVerIdentifier\"].astype('float')<=110,\"<=110\",\"+110\")"
      ],
      "metadata": {
        "id": "Y_Z1t6zqKzua"
      },
      "execution_count": null,
      "outputs": []
    },
    {
      "cell_type": "code",
      "source": [
        "df['Census_MDC2FormFactor'] = np.where(df['Census_MDC2FormFactor'].isin([\"Notebook\",\"Desktop\"]),df['Census_MDC2FormFactor']\n",
        ",\"otros\")"
      ],
      "metadata": {
        "id": "IQ6lCfE-MEvh"
      },
      "execution_count": null,
      "outputs": []
    },
    {
      "cell_type": "code",
      "source": [
        "df['Census_PrimaryDiskTypeName'] = np.where(df['Census_PrimaryDiskTypeName'].isin([\"HDD\",\"SSD\"]),df['Census_PrimaryDiskTypeName']\n",
        ",\"otros\")"
      ],
      "metadata": {
        "id": "AMdXSx12M8sC"
      },
      "execution_count": null,
      "outputs": []
    },
    {
      "cell_type": "code",
      "source": [
        "df['Census_OSBuildNumber'] = np.where(df['Census_OSBuildNumber'].isin([17134,16299]),df['Census_OSBuildNumber']\n",
        ",\"otros\")"
      ],
      "metadata": {
        "id": "kIcdCQyCNuz2"
      },
      "execution_count": null,
      "outputs": []
    },
    {
      "cell_type": "code",
      "source": [
        "df['Census_OSEdition'] = np.where(df['Census_OSEdition'].isin([\"Core\",\"Prpfessional\",\"CoreSingleLanguage\"]),df['Census_OSEdition']\n",
        ",\"otros\")"
      ],
      "metadata": {
        "id": "eePchF85OHou"
      },
      "execution_count": null,
      "outputs": []
    },
    {
      "cell_type": "code",
      "source": [
        "df['Census_FirmwareManufacturerIdentifier'] = np.where(df['Census_FirmwareManufacturerIdentifier'].isin([142.0,628.0, 554.0, 355.0, 556.0]),df['Census_FirmwareManufacturerIdentifier']\n",
        ",\"otros\")"
      ],
      "metadata": {
        "id": "8d_dkxXUOd6a"
      },
      "execution_count": null,
      "outputs": []
    },
    {
      "cell_type": "code",
      "source": [
        "df['SmartScreen'] = np.where(df['SmartScreen'].isin([\"RequireAdmin\",\"ExistsNotSet\"]),df['SmartScreen']\n",
        ",\"otros\")"
      ],
      "metadata": {
        "id": "hdap3PWdpk1W"
      },
      "execution_count": null,
      "outputs": []
    },
    {
      "cell_type": "code",
      "source": [
        "df['Census_OSWUAutoUpdateOptionsName'] = np.where(df['Census_OSWUAutoUpdateOptionsName'].isin([\"FullAuto\",\"Notify\"]),df['Census_OSWUAutoUpdateOptionsName']\n",
        ",\"otros\")"
      ],
      "metadata": {
        "id": "YQtpf0LirPlb"
      },
      "execution_count": null,
      "outputs": []
    },
    {
      "cell_type": "code",
      "execution_count": null,
      "metadata": {
        "colab": {
          "base_uri": "https://localhost:8080/"
        },
        "id": "FvgIc3o-NQAK",
        "outputId": "29cb145b-01e8-4977-c6fa-f1a8a1a48047"
      },
      "outputs": [
        {
          "output_type": "stream",
          "name": "stdout",
          "text": [
            "1        216491\n",
            "2        205494\n",
            "otros     51070\n",
            "3         14890\n",
            "4         12055\n",
            "Name: EngineVersion, dtype: int64\n",
            "rs4           220779\n",
            "rs3           139901\n",
            "rs2            43352\n",
            "rs1            40717\n",
            "th2            22955\n",
            "th1            15014\n",
            "windows8.1     10825\n",
            "windows7        5314\n",
            "prers5          1143\n",
            "Name: OsPlatformSubRelease, dtype: int64\n",
            "Home     308567\n",
            "Pro      181042\n",
            "otros     10391\n",
            "Name: SkuEdition, dtype: int64\n",
            "RequireAdmin    241594\n",
            "otros           199909\n",
            "ExistsNotSet     58497\n",
            "Name: SmartScreen, dtype: int64\n",
            "Notebook    320948\n",
            "Desktop     109527\n",
            "otros        69525\n",
            "Name: Census_MDC2FormFactor, dtype: int64\n",
            "mid     1196\n",
            "low      546\n",
            "high     340\n",
            "Name: Census_ProcessorClass, dtype: int64\n",
            "HDD      325429\n",
            "SSD      138155\n",
            "otros     36416\n",
            "Name: Census_PrimaryDiskTypeName, dtype: int64\n",
            "amd64    454435\n",
            "x86       45551\n",
            "arm64        14\n",
            "Name: Census_OSArchitecture, dtype: int64\n",
            "rs4_release                  226001\n",
            "rs3_release                   69216\n",
            "rs3_release_svc_escrow        67027\n",
            "rs2_release                   44264\n",
            "rs1_release                   43705\n",
            "th2_release                   18298\n",
            "th2_release_sec               14895\n",
            "th1_st1                       10822\n",
            "th1                            4284\n",
            "rs5_release                     839\n",
            "rs3_release_svc_escrow_im       329\n",
            "rs_prerelease                   184\n",
            "rs_prerelease_flt               132\n",
            "rs5_release_sigma                 3\n",
            "winblue_ltsb_escrow               1\n",
            "Name: Census_OSBranch, dtype: int64\n",
            "otros                 196835\n",
            "Core                  194469\n",
            "CoreSingleLanguage    108696\n",
            "Name: Census_OSEdition, dtype: int64\n",
            "UUPUpgrade        146780\n",
            "IBSClean           92403\n",
            "Update             88892\n",
            "Upgrade            70013\n",
            "Other              46960\n",
            "Reset              36510\n",
            "Refresh            11540\n",
            "Clean               3885\n",
            "CleanPCRefresh      3017\n",
            "Name: Census_OSInstallTypeName, dtype: int64\n",
            "FullAuto    222482\n",
            "otros       164011\n",
            "Notify      113507\n",
            "Name: Census_OSWUAutoUpdateOptionsName, dtype: int64\n",
            "Retail            264932\n",
            "OEM:DM            191350\n",
            "Volume:GVLK        25109\n",
            "OEM:NONSLP         17943\n",
            "Volume:MAK           468\n",
            "Retail:TB:Eval       198\n",
            "Name: Census_ActivationChannel, dtype: int64\n"
          ]
        }
      ],
      "source": [
        "for i in categorical_columns:\n",
        "  print(df[i].value_counts())"
      ]
    },
    {
      "cell_type": "code",
      "source": [
        "df.drop(columns=['Census_ProcessorClass','AVProductStatesIdentifier'], inplace=True)"
      ],
      "metadata": {
        "id": "XDvKk8oDsEG5"
      },
      "execution_count": null,
      "outputs": []
    },
    {
      "cell_type": "markdown",
      "metadata": {
        "id": "wloaUU9_oah3"
      },
      "source": [
        "### Multivariate analysis"
      ]
    },
    {
      "cell_type": "markdown",
      "metadata": {
        "id": "qr8NQbZOo0ew"
      },
      "source": [
        "* si el tamaño del dataset lo permite (<20 variables)\n",
        "* scatterplotmatrix(), heatmap's correlation, etc"
      ]
    },
    {
      "cell_type": "markdown",
      "metadata": {
        "id": "xnjtBfDNhOkX"
      },
      "source": [
        "El tamaño del dataset es superior a 20 variables por lo que no permite realizar scatterplotmatrix() ni  heatmap's correlation."
      ]
    },
    {
      "cell_type": "markdown",
      "metadata": {
        "id": "dN3dn7g8Y2RC"
      },
      "source": [
        "## Data Cleaning"
      ]
    },
    {
      "cell_type": "markdown",
      "metadata": {
        "id": "xG4KJVo7cFDQ"
      },
      "source": [
        "* Eliminar filas sin target informado.\n",
        "* Eliminar filas duplicadas (si tenemos ID, solo puede haber 1 registro por ID)\n",
        "* Eliminar filas/columnas vacías y columnas irrelevantes\n",
        "* Corregir data types incorrectos\n",
        "* Categoricos: Corregir literales incorrectos (acentos, erratas, etc)\n",
        "* Fechas y textos: convertir a variables numericas (hour, day, month, year...) o categoricas (weekday_name...)"
      ]
    },
    {
      "cell_type": "code",
      "execution_count": null,
      "metadata": {
        "colab": {
          "base_uri": "https://localhost:8080/",
          "height": 488
        },
        "id": "Dv24uurqiwXd",
        "outputId": "a32c8180-3613-421a-d8e7-a62e7953e67c"
      },
      "outputs": [
        {
          "output_type": "execute_result",
          "data": {
            "text/plain": [
              "       EngineVersion AppVersion AvSigVersion  AVProductsInstalled  \\\n",
              "221                1       4.18         1.27                  2.0   \n",
              "235                2       4.18         1.27                  2.0   \n",
              "270                2       4.18         1.27                  1.0   \n",
              "297                1       4.18         1.27                  1.0   \n",
              "399                1       4.8.         1.27                  2.0   \n",
              "...              ...        ...          ...                  ...   \n",
              "499539             2       4.18         1.27                  2.0   \n",
              "499594             1       4.9.         1.27                  1.0   \n",
              "499724             2       4.18         1.27                  1.0   \n",
              "499738             2       4.11         1.27                  1.0   \n",
              "499810             1       4.18         1.27                  2.0   \n",
              "\n",
              "        CountryIdentifier  LocaleEnglishNameIdentifier  OsBuild OsSuite  \\\n",
              "221                    29                          171    15063     768   \n",
              "235                    68                           74    14393     768   \n",
              "270                    29                          171    16299     256   \n",
              "297                    44                          218    17134     768   \n",
              "399                    66                           88    10240     768   \n",
              "...                   ...                          ...      ...     ...   \n",
              "499539                207                           75    15063     768   \n",
              "499594                 60                          233    10586     768   \n",
              "499724                 44                          218    16299     768   \n",
              "499738                107                          134    15063     256   \n",
              "499810                 66                           88    16299     768   \n",
              "\n",
              "       OsPlatformSubRelease SkuEdition  ...  \\\n",
              "221                     rs2       Home  ...   \n",
              "235                     rs1       Home  ...   \n",
              "270                     rs3        Pro  ...   \n",
              "297                     rs4       Home  ...   \n",
              "399                     th1       Home  ...   \n",
              "...                     ...        ...  ...   \n",
              "499539                  rs2       Home  ...   \n",
              "499594                  th2       Home  ...   \n",
              "499724                  rs3       Home  ...   \n",
              "499738                  rs2        Pro  ...   \n",
              "499810                  rs3       Home  ...   \n",
              "\n",
              "       Census_OSInstallLanguageIdentifier Census_OSWUAutoUpdateOptionsName  \\\n",
              "221                                  26.0                           Notify   \n",
              "235                                   7.0                            otros   \n",
              "270                                  26.0                            otros   \n",
              "297                                   9.0                         FullAuto   \n",
              "399                                  14.0                            otros   \n",
              "...                                   ...                              ...   \n",
              "499539                                8.0                           Notify   \n",
              "499594                                9.0                           Notify   \n",
              "499724                               10.0                            otros   \n",
              "499738                               20.0                           Notify   \n",
              "499810                               14.0                            otros   \n",
              "\n",
              "       Census_ActivationChannel Census_FirmwareManufacturerIdentifier  \\\n",
              "221                      OEM:DM                                 556.0   \n",
              "235                      OEM:DM                                 556.0   \n",
              "270                      OEM:DM                                 142.0   \n",
              "297                      OEM:DM                                 628.0   \n",
              "399                      OEM:DM                                 554.0   \n",
              "...                         ...                                   ...   \n",
              "499539                   OEM:DM                                 554.0   \n",
              "499594                   OEM:DM                                 554.0   \n",
              "499724                   OEM:DM                                 554.0   \n",
              "499738                   Retail                                 142.0   \n",
              "499810                   OEM:DM                                 554.0   \n",
              "\n",
              "        Census_IsSecureBootEnabled Census_IsTouchEnabled Census_IsPenCapable  \\\n",
              "221                              1                     0                   0   \n",
              "235                              1                     0                   0   \n",
              "270                              1                     0                   0   \n",
              "297                              1                     0                   0   \n",
              "399                              1                     0                   0   \n",
              "...                            ...                   ...                 ...   \n",
              "499539                           1                     0                   0   \n",
              "499594                           1                     0                   0   \n",
              "499724                           1                     0                   0   \n",
              "499738                           0                     0                   0   \n",
              "499810                           1                     0                   0   \n",
              "\n",
              "        Census_IsAlwaysOnAlwaysConnectedCapable  Wdft_IsGamer HasDetections  \n",
              "221                                         0.0           0.0             0  \n",
              "235                                         0.0           1.0             1  \n",
              "270                                         0.0           0.0             0  \n",
              "297                                         0.0           0.0             0  \n",
              "399                                         0.0           0.0             1  \n",
              "...                                         ...           ...           ...  \n",
              "499539                                      0.0           0.0             1  \n",
              "499594                                      0.0           0.0             1  \n",
              "499724                                      0.0           0.0             1  \n",
              "499738                                      0.0           0.0             1  \n",
              "499810                                      0.0           0.0             1  \n",
              "\n",
              "[3050 rows x 39 columns]"
            ],
            "text/html": [
              "\n",
              "  <div id=\"df-e56b11bf-2ad8-4c68-959e-1d2701c5e541\">\n",
              "    <div class=\"colab-df-container\">\n",
              "      <div>\n",
              "<style scoped>\n",
              "    .dataframe tbody tr th:only-of-type {\n",
              "        vertical-align: middle;\n",
              "    }\n",
              "\n",
              "    .dataframe tbody tr th {\n",
              "        vertical-align: top;\n",
              "    }\n",
              "\n",
              "    .dataframe thead th {\n",
              "        text-align: right;\n",
              "    }\n",
              "</style>\n",
              "<table border=\"1\" class=\"dataframe\">\n",
              "  <thead>\n",
              "    <tr style=\"text-align: right;\">\n",
              "      <th></th>\n",
              "      <th>EngineVersion</th>\n",
              "      <th>AppVersion</th>\n",
              "      <th>AvSigVersion</th>\n",
              "      <th>AVProductsInstalled</th>\n",
              "      <th>CountryIdentifier</th>\n",
              "      <th>LocaleEnglishNameIdentifier</th>\n",
              "      <th>OsBuild</th>\n",
              "      <th>OsSuite</th>\n",
              "      <th>OsPlatformSubRelease</th>\n",
              "      <th>SkuEdition</th>\n",
              "      <th>...</th>\n",
              "      <th>Census_OSInstallLanguageIdentifier</th>\n",
              "      <th>Census_OSWUAutoUpdateOptionsName</th>\n",
              "      <th>Census_ActivationChannel</th>\n",
              "      <th>Census_FirmwareManufacturerIdentifier</th>\n",
              "      <th>Census_IsSecureBootEnabled</th>\n",
              "      <th>Census_IsTouchEnabled</th>\n",
              "      <th>Census_IsPenCapable</th>\n",
              "      <th>Census_IsAlwaysOnAlwaysConnectedCapable</th>\n",
              "      <th>Wdft_IsGamer</th>\n",
              "      <th>HasDetections</th>\n",
              "    </tr>\n",
              "  </thead>\n",
              "  <tbody>\n",
              "    <tr>\n",
              "      <th>221</th>\n",
              "      <td>1</td>\n",
              "      <td>4.18</td>\n",
              "      <td>1.27</td>\n",
              "      <td>2.0</td>\n",
              "      <td>29</td>\n",
              "      <td>171</td>\n",
              "      <td>15063</td>\n",
              "      <td>768</td>\n",
              "      <td>rs2</td>\n",
              "      <td>Home</td>\n",
              "      <td>...</td>\n",
              "      <td>26.0</td>\n",
              "      <td>Notify</td>\n",
              "      <td>OEM:DM</td>\n",
              "      <td>556.0</td>\n",
              "      <td>1</td>\n",
              "      <td>0</td>\n",
              "      <td>0</td>\n",
              "      <td>0.0</td>\n",
              "      <td>0.0</td>\n",
              "      <td>0</td>\n",
              "    </tr>\n",
              "    <tr>\n",
              "      <th>235</th>\n",
              "      <td>2</td>\n",
              "      <td>4.18</td>\n",
              "      <td>1.27</td>\n",
              "      <td>2.0</td>\n",
              "      <td>68</td>\n",
              "      <td>74</td>\n",
              "      <td>14393</td>\n",
              "      <td>768</td>\n",
              "      <td>rs1</td>\n",
              "      <td>Home</td>\n",
              "      <td>...</td>\n",
              "      <td>7.0</td>\n",
              "      <td>otros</td>\n",
              "      <td>OEM:DM</td>\n",
              "      <td>556.0</td>\n",
              "      <td>1</td>\n",
              "      <td>0</td>\n",
              "      <td>0</td>\n",
              "      <td>0.0</td>\n",
              "      <td>1.0</td>\n",
              "      <td>1</td>\n",
              "    </tr>\n",
              "    <tr>\n",
              "      <th>270</th>\n",
              "      <td>2</td>\n",
              "      <td>4.18</td>\n",
              "      <td>1.27</td>\n",
              "      <td>1.0</td>\n",
              "      <td>29</td>\n",
              "      <td>171</td>\n",
              "      <td>16299</td>\n",
              "      <td>256</td>\n",
              "      <td>rs3</td>\n",
              "      <td>Pro</td>\n",
              "      <td>...</td>\n",
              "      <td>26.0</td>\n",
              "      <td>otros</td>\n",
              "      <td>OEM:DM</td>\n",
              "      <td>142.0</td>\n",
              "      <td>1</td>\n",
              "      <td>0</td>\n",
              "      <td>0</td>\n",
              "      <td>0.0</td>\n",
              "      <td>0.0</td>\n",
              "      <td>0</td>\n",
              "    </tr>\n",
              "    <tr>\n",
              "      <th>297</th>\n",
              "      <td>1</td>\n",
              "      <td>4.18</td>\n",
              "      <td>1.27</td>\n",
              "      <td>1.0</td>\n",
              "      <td>44</td>\n",
              "      <td>218</td>\n",
              "      <td>17134</td>\n",
              "      <td>768</td>\n",
              "      <td>rs4</td>\n",
              "      <td>Home</td>\n",
              "      <td>...</td>\n",
              "      <td>9.0</td>\n",
              "      <td>FullAuto</td>\n",
              "      <td>OEM:DM</td>\n",
              "      <td>628.0</td>\n",
              "      <td>1</td>\n",
              "      <td>0</td>\n",
              "      <td>0</td>\n",
              "      <td>0.0</td>\n",
              "      <td>0.0</td>\n",
              "      <td>0</td>\n",
              "    </tr>\n",
              "    <tr>\n",
              "      <th>399</th>\n",
              "      <td>1</td>\n",
              "      <td>4.8.</td>\n",
              "      <td>1.27</td>\n",
              "      <td>2.0</td>\n",
              "      <td>66</td>\n",
              "      <td>88</td>\n",
              "      <td>10240</td>\n",
              "      <td>768</td>\n",
              "      <td>th1</td>\n",
              "      <td>Home</td>\n",
              "      <td>...</td>\n",
              "      <td>14.0</td>\n",
              "      <td>otros</td>\n",
              "      <td>OEM:DM</td>\n",
              "      <td>554.0</td>\n",
              "      <td>1</td>\n",
              "      <td>0</td>\n",
              "      <td>0</td>\n",
              "      <td>0.0</td>\n",
              "      <td>0.0</td>\n",
              "      <td>1</td>\n",
              "    </tr>\n",
              "    <tr>\n",
              "      <th>...</th>\n",
              "      <td>...</td>\n",
              "      <td>...</td>\n",
              "      <td>...</td>\n",
              "      <td>...</td>\n",
              "      <td>...</td>\n",
              "      <td>...</td>\n",
              "      <td>...</td>\n",
              "      <td>...</td>\n",
              "      <td>...</td>\n",
              "      <td>...</td>\n",
              "      <td>...</td>\n",
              "      <td>...</td>\n",
              "      <td>...</td>\n",
              "      <td>...</td>\n",
              "      <td>...</td>\n",
              "      <td>...</td>\n",
              "      <td>...</td>\n",
              "      <td>...</td>\n",
              "      <td>...</td>\n",
              "      <td>...</td>\n",
              "      <td>...</td>\n",
              "    </tr>\n",
              "    <tr>\n",
              "      <th>499539</th>\n",
              "      <td>2</td>\n",
              "      <td>4.18</td>\n",
              "      <td>1.27</td>\n",
              "      <td>2.0</td>\n",
              "      <td>207</td>\n",
              "      <td>75</td>\n",
              "      <td>15063</td>\n",
              "      <td>768</td>\n",
              "      <td>rs2</td>\n",
              "      <td>Home</td>\n",
              "      <td>...</td>\n",
              "      <td>8.0</td>\n",
              "      <td>Notify</td>\n",
              "      <td>OEM:DM</td>\n",
              "      <td>554.0</td>\n",
              "      <td>1</td>\n",
              "      <td>0</td>\n",
              "      <td>0</td>\n",
              "      <td>0.0</td>\n",
              "      <td>0.0</td>\n",
              "      <td>1</td>\n",
              "    </tr>\n",
              "    <tr>\n",
              "      <th>499594</th>\n",
              "      <td>1</td>\n",
              "      <td>4.9.</td>\n",
              "      <td>1.27</td>\n",
              "      <td>1.0</td>\n",
              "      <td>60</td>\n",
              "      <td>233</td>\n",
              "      <td>10586</td>\n",
              "      <td>768</td>\n",
              "      <td>th2</td>\n",
              "      <td>Home</td>\n",
              "      <td>...</td>\n",
              "      <td>9.0</td>\n",
              "      <td>Notify</td>\n",
              "      <td>OEM:DM</td>\n",
              "      <td>554.0</td>\n",
              "      <td>1</td>\n",
              "      <td>0</td>\n",
              "      <td>0</td>\n",
              "      <td>0.0</td>\n",
              "      <td>0.0</td>\n",
              "      <td>1</td>\n",
              "    </tr>\n",
              "    <tr>\n",
              "      <th>499724</th>\n",
              "      <td>2</td>\n",
              "      <td>4.18</td>\n",
              "      <td>1.27</td>\n",
              "      <td>1.0</td>\n",
              "      <td>44</td>\n",
              "      <td>218</td>\n",
              "      <td>16299</td>\n",
              "      <td>768</td>\n",
              "      <td>rs3</td>\n",
              "      <td>Home</td>\n",
              "      <td>...</td>\n",
              "      <td>10.0</td>\n",
              "      <td>otros</td>\n",
              "      <td>OEM:DM</td>\n",
              "      <td>554.0</td>\n",
              "      <td>1</td>\n",
              "      <td>0</td>\n",
              "      <td>0</td>\n",
              "      <td>0.0</td>\n",
              "      <td>0.0</td>\n",
              "      <td>1</td>\n",
              "    </tr>\n",
              "    <tr>\n",
              "      <th>499738</th>\n",
              "      <td>2</td>\n",
              "      <td>4.11</td>\n",
              "      <td>1.27</td>\n",
              "      <td>1.0</td>\n",
              "      <td>107</td>\n",
              "      <td>134</td>\n",
              "      <td>15063</td>\n",
              "      <td>256</td>\n",
              "      <td>rs2</td>\n",
              "      <td>Pro</td>\n",
              "      <td>...</td>\n",
              "      <td>20.0</td>\n",
              "      <td>Notify</td>\n",
              "      <td>Retail</td>\n",
              "      <td>142.0</td>\n",
              "      <td>0</td>\n",
              "      <td>0</td>\n",
              "      <td>0</td>\n",
              "      <td>0.0</td>\n",
              "      <td>0.0</td>\n",
              "      <td>1</td>\n",
              "    </tr>\n",
              "    <tr>\n",
              "      <th>499810</th>\n",
              "      <td>1</td>\n",
              "      <td>4.18</td>\n",
              "      <td>1.27</td>\n",
              "      <td>2.0</td>\n",
              "      <td>66</td>\n",
              "      <td>88</td>\n",
              "      <td>16299</td>\n",
              "      <td>768</td>\n",
              "      <td>rs3</td>\n",
              "      <td>Home</td>\n",
              "      <td>...</td>\n",
              "      <td>14.0</td>\n",
              "      <td>otros</td>\n",
              "      <td>OEM:DM</td>\n",
              "      <td>554.0</td>\n",
              "      <td>1</td>\n",
              "      <td>0</td>\n",
              "      <td>0</td>\n",
              "      <td>0.0</td>\n",
              "      <td>0.0</td>\n",
              "      <td>1</td>\n",
              "    </tr>\n",
              "  </tbody>\n",
              "</table>\n",
              "<p>3050 rows × 39 columns</p>\n",
              "</div>\n",
              "      <button class=\"colab-df-convert\" onclick=\"convertToInteractive('df-e56b11bf-2ad8-4c68-959e-1d2701c5e541')\"\n",
              "              title=\"Convert this dataframe to an interactive table.\"\n",
              "              style=\"display:none;\">\n",
              "        \n",
              "  <svg xmlns=\"http://www.w3.org/2000/svg\" height=\"24px\"viewBox=\"0 0 24 24\"\n",
              "       width=\"24px\">\n",
              "    <path d=\"M0 0h24v24H0V0z\" fill=\"none\"/>\n",
              "    <path d=\"M18.56 5.44l.94 2.06.94-2.06 2.06-.94-2.06-.94-.94-2.06-.94 2.06-2.06.94zm-11 1L8.5 8.5l.94-2.06 2.06-.94-2.06-.94L8.5 2.5l-.94 2.06-2.06.94zm10 10l.94 2.06.94-2.06 2.06-.94-2.06-.94-.94-2.06-.94 2.06-2.06.94z\"/><path d=\"M17.41 7.96l-1.37-1.37c-.4-.4-.92-.59-1.43-.59-.52 0-1.04.2-1.43.59L10.3 9.45l-7.72 7.72c-.78.78-.78 2.05 0 2.83L4 21.41c.39.39.9.59 1.41.59.51 0 1.02-.2 1.41-.59l7.78-7.78 2.81-2.81c.8-.78.8-2.07 0-2.86zM5.41 20L4 18.59l7.72-7.72 1.47 1.35L5.41 20z\"/>\n",
              "  </svg>\n",
              "      </button>\n",
              "      \n",
              "  <style>\n",
              "    .colab-df-container {\n",
              "      display:flex;\n",
              "      flex-wrap:wrap;\n",
              "      gap: 12px;\n",
              "    }\n",
              "\n",
              "    .colab-df-convert {\n",
              "      background-color: #E8F0FE;\n",
              "      border: none;\n",
              "      border-radius: 50%;\n",
              "      cursor: pointer;\n",
              "      display: none;\n",
              "      fill: #1967D2;\n",
              "      height: 32px;\n",
              "      padding: 0 0 0 0;\n",
              "      width: 32px;\n",
              "    }\n",
              "\n",
              "    .colab-df-convert:hover {\n",
              "      background-color: #E2EBFA;\n",
              "      box-shadow: 0px 1px 2px rgba(60, 64, 67, 0.3), 0px 1px 3px 1px rgba(60, 64, 67, 0.15);\n",
              "      fill: #174EA6;\n",
              "    }\n",
              "\n",
              "    [theme=dark] .colab-df-convert {\n",
              "      background-color: #3B4455;\n",
              "      fill: #D2E3FC;\n",
              "    }\n",
              "\n",
              "    [theme=dark] .colab-df-convert:hover {\n",
              "      background-color: #434B5C;\n",
              "      box-shadow: 0px 1px 3px 1px rgba(0, 0, 0, 0.15);\n",
              "      filter: drop-shadow(0px 1px 2px rgba(0, 0, 0, 0.3));\n",
              "      fill: #FFFFFF;\n",
              "    }\n",
              "  </style>\n",
              "\n",
              "      <script>\n",
              "        const buttonEl =\n",
              "          document.querySelector('#df-e56b11bf-2ad8-4c68-959e-1d2701c5e541 button.colab-df-convert');\n",
              "        buttonEl.style.display =\n",
              "          google.colab.kernel.accessAllowed ? 'block' : 'none';\n",
              "\n",
              "        async function convertToInteractive(key) {\n",
              "          const element = document.querySelector('#df-e56b11bf-2ad8-4c68-959e-1d2701c5e541');\n",
              "          const dataTable =\n",
              "            await google.colab.kernel.invokeFunction('convertToInteractive',\n",
              "                                                     [key], {});\n",
              "          if (!dataTable) return;\n",
              "\n",
              "          const docLinkHtml = 'Like what you see? Visit the ' +\n",
              "            '<a target=\"_blank\" href=https://colab.research.google.com/notebooks/data_table.ipynb>data table notebook</a>'\n",
              "            + ' to learn more about interactive tables.';\n",
              "          element.innerHTML = '';\n",
              "          dataTable['output_type'] = 'display_data';\n",
              "          await google.colab.output.renderOutput(dataTable, element);\n",
              "          const docLink = document.createElement('div');\n",
              "          docLink.innerHTML = docLinkHtml;\n",
              "          element.appendChild(docLink);\n",
              "        }\n",
              "      </script>\n",
              "    </div>\n",
              "  </div>\n",
              "  "
            ]
          },
          "metadata": {},
          "execution_count": 58
        }
      ],
      "source": [
        "df[df.duplicated(keep=False)]"
      ]
    },
    {
      "cell_type": "code",
      "execution_count": null,
      "metadata": {
        "id": "PB28VXB8SWPl"
      },
      "outputs": [],
      "source": [
        "df.drop_duplicates(inplace=True)"
      ]
    },
    {
      "cell_type": "markdown",
      "metadata": {
        "id": "j55TG_s25-g4"
      },
      "source": [
        "En el siguiente cuadro observaremos valores únicos, porcentaje de nulos y porcentaje de valores por categoría"
      ]
    },
    {
      "cell_type": "code",
      "execution_count": null,
      "metadata": {
        "colab": {
          "base_uri": "https://localhost:8080/",
          "height": 1000
        },
        "id": "ou_z_TB_cEMe",
        "outputId": "eed3ab20-c7c4-4d4e-966a-3af1721d28a6"
      },
      "outputs": [
        {
          "output_type": "execute_result",
          "data": {
            "text/plain": [
              "                                              Feature  Unique_values  \\\n",
              "37                                       Wdft_IsGamer              2   \n",
              "23              Census_InternalBatteryNumberOfCharges           5248   \n",
              "36            Census_IsAlwaysOnAlwaysConnectedCapable              2   \n",
              "29                 Census_OSInstallLanguageIdentifier             39   \n",
              "17                   Census_SystemVolumeTotalCapacity         142051   \n",
              "20  Census_InternalPrimaryDiagonalDisplaySizeInInches            520   \n",
              "22    Census_InternalPrimaryDisplayResolutionVertical            514   \n",
              "21  Census_InternalPrimaryDisplayResolutionHorizontal            474   \n",
              "14             Census_ProcessorManufacturerIdentifier              4   \n",
              "3                                 AVProductsInstalled              5   \n",
              "32              Census_FirmwareManufacturerIdentifier              6   \n",
              "31                           Census_ActivationChannel              6   \n",
              "30                   Census_OSWUAutoUpdateOptionsName              3   \n",
              "33                         Census_IsSecureBootEnabled              2   \n",
              "28                           Census_OSInstallTypeName              9   \n",
              "27                                   Census_OSEdition              3   \n",
              "26                               Census_OSBuildNumber              3   \n",
              "25                                    Census_OSBranch             15   \n",
              "34                              Census_IsTouchEnabled              2   \n",
              "24                              Census_OSArchitecture              3   \n",
              "35                                Census_IsPenCapable              2   \n",
              "0                                       EngineVersion              5   \n",
              "19                            Census_TotalPhysicalRAM              2   \n",
              "1                                          AppVersion             15   \n",
              "18                         Census_HasOpticalDiskDrive              2   \n",
              "16                         Census_PrimaryDiskTypeName              3   \n",
              "15                    Census_PrimaryDiskTotalCapacity              2   \n",
              "13                          Census_ProcessorCoreCount              3   \n",
              "12                              Census_MDC2FormFactor              3   \n",
              "11                                        SmartScreen              3   \n",
              "10                                    IeVerIdentifier              2   \n",
              "9                                          SkuEdition              3   \n",
              "8                                OsPlatformSubRelease              9   \n",
              "7                                             OsSuite              3   \n",
              "6                                             OsBuild             48   \n",
              "5                         LocaleEnglishNameIdentifier            233   \n",
              "4                                   CountryIdentifier            222   \n",
              "2                                        AvSigVersion             11   \n",
              "38                                      HasDetections              2   \n",
              "\n",
              "    Percentage of missing values  \\\n",
              "37                      3.391994   \n",
              "23                      3.013099   \n",
              "36                      0.809768   \n",
              "29                      0.667682   \n",
              "17                      0.596238   \n",
              "20                      0.532420   \n",
              "22                      0.531617   \n",
              "21                      0.531617   \n",
              "14                      0.470609   \n",
              "3                       0.388929   \n",
              "32                      0.000000   \n",
              "31                      0.000000   \n",
              "30                      0.000000   \n",
              "33                      0.000000   \n",
              "28                      0.000000   \n",
              "27                      0.000000   \n",
              "26                      0.000000   \n",
              "25                      0.000000   \n",
              "34                      0.000000   \n",
              "24                      0.000000   \n",
              "35                      0.000000   \n",
              "0                       0.000000   \n",
              "19                      0.000000   \n",
              "1                       0.000000   \n",
              "18                      0.000000   \n",
              "16                      0.000000   \n",
              "15                      0.000000   \n",
              "13                      0.000000   \n",
              "12                      0.000000   \n",
              "11                      0.000000   \n",
              "10                      0.000000   \n",
              "9                       0.000000   \n",
              "8                       0.000000   \n",
              "7                       0.000000   \n",
              "6                       0.000000   \n",
              "5                       0.000000   \n",
              "4                       0.000000   \n",
              "2                       0.000000   \n",
              "38                      0.000000   \n",
              "\n",
              "    Percentage of values in the biggest category     type  \n",
              "37                                     69.162999  float64  \n",
              "23                                     56.567949  float64  \n",
              "36                                     93.506405  float64  \n",
              "29                                     35.700625  float64  \n",
              "17                                      0.596238  float64  \n",
              "20                                     34.290806  float64  \n",
              "22                                     55.515753  float64  \n",
              "21                                     50.350498  float64  \n",
              "14                                     87.780634  float64  \n",
              "3                                      69.601097  float64  \n",
              "32                                     30.294747   object  \n",
              "31                                     53.080429   object  \n",
              "30                                     44.548667   object  \n",
              "33                                     51.525514    int64  \n",
              "28                                     29.402899   object  \n",
              "27                                     39.338459   object  \n",
              "26                                     45.245248   object  \n",
              "25                                     45.249663   object  \n",
              "34                                     87.462346    int64  \n",
              "24                                     90.864374   object  \n",
              "35                                     96.222890    int64  \n",
              "0                                      43.276118   object  \n",
              "19                                     60.764092   object  \n",
              "1                                      67.420042   object  \n",
              "18                                     92.274795    int64  \n",
              "16                                     65.131219   object  \n",
              "15                                     69.415663   object  \n",
              "13                                     60.872261   object  \n",
              "12                                     64.170736   object  \n",
              "11                                     48.368122   object  \n",
              "10                                     75.761352   object  \n",
              "9                                      61.731799   object  \n",
              "8                                      44.206698   object  \n",
              "7                                      62.265223   object  \n",
              "6                                      44.206698    int64  \n",
              "5                                      23.581201    int64  \n",
              "4                                       4.461650    int64  \n",
              "2                                      89.456763   object  \n",
              "38                                     50.014951    int64  "
            ],
            "text/html": [
              "\n",
              "  <div id=\"df-73ac21e2-5a1e-4251-9749-bfb471efe1a9\">\n",
              "    <div class=\"colab-df-container\">\n",
              "      <div>\n",
              "<style scoped>\n",
              "    .dataframe tbody tr th:only-of-type {\n",
              "        vertical-align: middle;\n",
              "    }\n",
              "\n",
              "    .dataframe tbody tr th {\n",
              "        vertical-align: top;\n",
              "    }\n",
              "\n",
              "    .dataframe thead th {\n",
              "        text-align: right;\n",
              "    }\n",
              "</style>\n",
              "<table border=\"1\" class=\"dataframe\">\n",
              "  <thead>\n",
              "    <tr style=\"text-align: right;\">\n",
              "      <th></th>\n",
              "      <th>Feature</th>\n",
              "      <th>Unique_values</th>\n",
              "      <th>Percentage of missing values</th>\n",
              "      <th>Percentage of values in the biggest category</th>\n",
              "      <th>type</th>\n",
              "    </tr>\n",
              "  </thead>\n",
              "  <tbody>\n",
              "    <tr>\n",
              "      <th>37</th>\n",
              "      <td>Wdft_IsGamer</td>\n",
              "      <td>2</td>\n",
              "      <td>3.391994</td>\n",
              "      <td>69.162999</td>\n",
              "      <td>float64</td>\n",
              "    </tr>\n",
              "    <tr>\n",
              "      <th>23</th>\n",
              "      <td>Census_InternalBatteryNumberOfCharges</td>\n",
              "      <td>5248</td>\n",
              "      <td>3.013099</td>\n",
              "      <td>56.567949</td>\n",
              "      <td>float64</td>\n",
              "    </tr>\n",
              "    <tr>\n",
              "      <th>36</th>\n",
              "      <td>Census_IsAlwaysOnAlwaysConnectedCapable</td>\n",
              "      <td>2</td>\n",
              "      <td>0.809768</td>\n",
              "      <td>93.506405</td>\n",
              "      <td>float64</td>\n",
              "    </tr>\n",
              "    <tr>\n",
              "      <th>29</th>\n",
              "      <td>Census_OSInstallLanguageIdentifier</td>\n",
              "      <td>39</td>\n",
              "      <td>0.667682</td>\n",
              "      <td>35.700625</td>\n",
              "      <td>float64</td>\n",
              "    </tr>\n",
              "    <tr>\n",
              "      <th>17</th>\n",
              "      <td>Census_SystemVolumeTotalCapacity</td>\n",
              "      <td>142051</td>\n",
              "      <td>0.596238</td>\n",
              "      <td>0.596238</td>\n",
              "      <td>float64</td>\n",
              "    </tr>\n",
              "    <tr>\n",
              "      <th>20</th>\n",
              "      <td>Census_InternalPrimaryDiagonalDisplaySizeInInches</td>\n",
              "      <td>520</td>\n",
              "      <td>0.532420</td>\n",
              "      <td>34.290806</td>\n",
              "      <td>float64</td>\n",
              "    </tr>\n",
              "    <tr>\n",
              "      <th>22</th>\n",
              "      <td>Census_InternalPrimaryDisplayResolutionVertical</td>\n",
              "      <td>514</td>\n",
              "      <td>0.531617</td>\n",
              "      <td>55.515753</td>\n",
              "      <td>float64</td>\n",
              "    </tr>\n",
              "    <tr>\n",
              "      <th>21</th>\n",
              "      <td>Census_InternalPrimaryDisplayResolutionHorizontal</td>\n",
              "      <td>474</td>\n",
              "      <td>0.531617</td>\n",
              "      <td>50.350498</td>\n",
              "      <td>float64</td>\n",
              "    </tr>\n",
              "    <tr>\n",
              "      <th>14</th>\n",
              "      <td>Census_ProcessorManufacturerIdentifier</td>\n",
              "      <td>4</td>\n",
              "      <td>0.470609</td>\n",
              "      <td>87.780634</td>\n",
              "      <td>float64</td>\n",
              "    </tr>\n",
              "    <tr>\n",
              "      <th>3</th>\n",
              "      <td>AVProductsInstalled</td>\n",
              "      <td>5</td>\n",
              "      <td>0.388929</td>\n",
              "      <td>69.601097</td>\n",
              "      <td>float64</td>\n",
              "    </tr>\n",
              "    <tr>\n",
              "      <th>32</th>\n",
              "      <td>Census_FirmwareManufacturerIdentifier</td>\n",
              "      <td>6</td>\n",
              "      <td>0.000000</td>\n",
              "      <td>30.294747</td>\n",
              "      <td>object</td>\n",
              "    </tr>\n",
              "    <tr>\n",
              "      <th>31</th>\n",
              "      <td>Census_ActivationChannel</td>\n",
              "      <td>6</td>\n",
              "      <td>0.000000</td>\n",
              "      <td>53.080429</td>\n",
              "      <td>object</td>\n",
              "    </tr>\n",
              "    <tr>\n",
              "      <th>30</th>\n",
              "      <td>Census_OSWUAutoUpdateOptionsName</td>\n",
              "      <td>3</td>\n",
              "      <td>0.000000</td>\n",
              "      <td>44.548667</td>\n",
              "      <td>object</td>\n",
              "    </tr>\n",
              "    <tr>\n",
              "      <th>33</th>\n",
              "      <td>Census_IsSecureBootEnabled</td>\n",
              "      <td>2</td>\n",
              "      <td>0.000000</td>\n",
              "      <td>51.525514</td>\n",
              "      <td>int64</td>\n",
              "    </tr>\n",
              "    <tr>\n",
              "      <th>28</th>\n",
              "      <td>Census_OSInstallTypeName</td>\n",
              "      <td>9</td>\n",
              "      <td>0.000000</td>\n",
              "      <td>29.402899</td>\n",
              "      <td>object</td>\n",
              "    </tr>\n",
              "    <tr>\n",
              "      <th>27</th>\n",
              "      <td>Census_OSEdition</td>\n",
              "      <td>3</td>\n",
              "      <td>0.000000</td>\n",
              "      <td>39.338459</td>\n",
              "      <td>object</td>\n",
              "    </tr>\n",
              "    <tr>\n",
              "      <th>26</th>\n",
              "      <td>Census_OSBuildNumber</td>\n",
              "      <td>3</td>\n",
              "      <td>0.000000</td>\n",
              "      <td>45.245248</td>\n",
              "      <td>object</td>\n",
              "    </tr>\n",
              "    <tr>\n",
              "      <th>25</th>\n",
              "      <td>Census_OSBranch</td>\n",
              "      <td>15</td>\n",
              "      <td>0.000000</td>\n",
              "      <td>45.249663</td>\n",
              "      <td>object</td>\n",
              "    </tr>\n",
              "    <tr>\n",
              "      <th>34</th>\n",
              "      <td>Census_IsTouchEnabled</td>\n",
              "      <td>2</td>\n",
              "      <td>0.000000</td>\n",
              "      <td>87.462346</td>\n",
              "      <td>int64</td>\n",
              "    </tr>\n",
              "    <tr>\n",
              "      <th>24</th>\n",
              "      <td>Census_OSArchitecture</td>\n",
              "      <td>3</td>\n",
              "      <td>0.000000</td>\n",
              "      <td>90.864374</td>\n",
              "      <td>object</td>\n",
              "    </tr>\n",
              "    <tr>\n",
              "      <th>35</th>\n",
              "      <td>Census_IsPenCapable</td>\n",
              "      <td>2</td>\n",
              "      <td>0.000000</td>\n",
              "      <td>96.222890</td>\n",
              "      <td>int64</td>\n",
              "    </tr>\n",
              "    <tr>\n",
              "      <th>0</th>\n",
              "      <td>EngineVersion</td>\n",
              "      <td>5</td>\n",
              "      <td>0.000000</td>\n",
              "      <td>43.276118</td>\n",
              "      <td>object</td>\n",
              "    </tr>\n",
              "    <tr>\n",
              "      <th>19</th>\n",
              "      <td>Census_TotalPhysicalRAM</td>\n",
              "      <td>2</td>\n",
              "      <td>0.000000</td>\n",
              "      <td>60.764092</td>\n",
              "      <td>object</td>\n",
              "    </tr>\n",
              "    <tr>\n",
              "      <th>1</th>\n",
              "      <td>AppVersion</td>\n",
              "      <td>15</td>\n",
              "      <td>0.000000</td>\n",
              "      <td>67.420042</td>\n",
              "      <td>object</td>\n",
              "    </tr>\n",
              "    <tr>\n",
              "      <th>18</th>\n",
              "      <td>Census_HasOpticalDiskDrive</td>\n",
              "      <td>2</td>\n",
              "      <td>0.000000</td>\n",
              "      <td>92.274795</td>\n",
              "      <td>int64</td>\n",
              "    </tr>\n",
              "    <tr>\n",
              "      <th>16</th>\n",
              "      <td>Census_PrimaryDiskTypeName</td>\n",
              "      <td>3</td>\n",
              "      <td>0.000000</td>\n",
              "      <td>65.131219</td>\n",
              "      <td>object</td>\n",
              "    </tr>\n",
              "    <tr>\n",
              "      <th>15</th>\n",
              "      <td>Census_PrimaryDiskTotalCapacity</td>\n",
              "      <td>2</td>\n",
              "      <td>0.000000</td>\n",
              "      <td>69.415663</td>\n",
              "      <td>object</td>\n",
              "    </tr>\n",
              "    <tr>\n",
              "      <th>13</th>\n",
              "      <td>Census_ProcessorCoreCount</td>\n",
              "      <td>3</td>\n",
              "      <td>0.000000</td>\n",
              "      <td>60.872261</td>\n",
              "      <td>object</td>\n",
              "    </tr>\n",
              "    <tr>\n",
              "      <th>12</th>\n",
              "      <td>Census_MDC2FormFactor</td>\n",
              "      <td>3</td>\n",
              "      <td>0.000000</td>\n",
              "      <td>64.170736</td>\n",
              "      <td>object</td>\n",
              "    </tr>\n",
              "    <tr>\n",
              "      <th>11</th>\n",
              "      <td>SmartScreen</td>\n",
              "      <td>3</td>\n",
              "      <td>0.000000</td>\n",
              "      <td>48.368122</td>\n",
              "      <td>object</td>\n",
              "    </tr>\n",
              "    <tr>\n",
              "      <th>10</th>\n",
              "      <td>IeVerIdentifier</td>\n",
              "      <td>2</td>\n",
              "      <td>0.000000</td>\n",
              "      <td>75.761352</td>\n",
              "      <td>object</td>\n",
              "    </tr>\n",
              "    <tr>\n",
              "      <th>9</th>\n",
              "      <td>SkuEdition</td>\n",
              "      <td>3</td>\n",
              "      <td>0.000000</td>\n",
              "      <td>61.731799</td>\n",
              "      <td>object</td>\n",
              "    </tr>\n",
              "    <tr>\n",
              "      <th>8</th>\n",
              "      <td>OsPlatformSubRelease</td>\n",
              "      <td>9</td>\n",
              "      <td>0.000000</td>\n",
              "      <td>44.206698</td>\n",
              "      <td>object</td>\n",
              "    </tr>\n",
              "    <tr>\n",
              "      <th>7</th>\n",
              "      <td>OsSuite</td>\n",
              "      <td>3</td>\n",
              "      <td>0.000000</td>\n",
              "      <td>62.265223</td>\n",
              "      <td>object</td>\n",
              "    </tr>\n",
              "    <tr>\n",
              "      <th>6</th>\n",
              "      <td>OsBuild</td>\n",
              "      <td>48</td>\n",
              "      <td>0.000000</td>\n",
              "      <td>44.206698</td>\n",
              "      <td>int64</td>\n",
              "    </tr>\n",
              "    <tr>\n",
              "      <th>5</th>\n",
              "      <td>LocaleEnglishNameIdentifier</td>\n",
              "      <td>233</td>\n",
              "      <td>0.000000</td>\n",
              "      <td>23.581201</td>\n",
              "      <td>int64</td>\n",
              "    </tr>\n",
              "    <tr>\n",
              "      <th>4</th>\n",
              "      <td>CountryIdentifier</td>\n",
              "      <td>222</td>\n",
              "      <td>0.000000</td>\n",
              "      <td>4.461650</td>\n",
              "      <td>int64</td>\n",
              "    </tr>\n",
              "    <tr>\n",
              "      <th>2</th>\n",
              "      <td>AvSigVersion</td>\n",
              "      <td>11</td>\n",
              "      <td>0.000000</td>\n",
              "      <td>89.456763</td>\n",
              "      <td>object</td>\n",
              "    </tr>\n",
              "    <tr>\n",
              "      <th>38</th>\n",
              "      <td>HasDetections</td>\n",
              "      <td>2</td>\n",
              "      <td>0.000000</td>\n",
              "      <td>50.014951</td>\n",
              "      <td>int64</td>\n",
              "    </tr>\n",
              "  </tbody>\n",
              "</table>\n",
              "</div>\n",
              "      <button class=\"colab-df-convert\" onclick=\"convertToInteractive('df-73ac21e2-5a1e-4251-9749-bfb471efe1a9')\"\n",
              "              title=\"Convert this dataframe to an interactive table.\"\n",
              "              style=\"display:none;\">\n",
              "        \n",
              "  <svg xmlns=\"http://www.w3.org/2000/svg\" height=\"24px\"viewBox=\"0 0 24 24\"\n",
              "       width=\"24px\">\n",
              "    <path d=\"M0 0h24v24H0V0z\" fill=\"none\"/>\n",
              "    <path d=\"M18.56 5.44l.94 2.06.94-2.06 2.06-.94-2.06-.94-.94-2.06-.94 2.06-2.06.94zm-11 1L8.5 8.5l.94-2.06 2.06-.94-2.06-.94L8.5 2.5l-.94 2.06-2.06.94zm10 10l.94 2.06.94-2.06 2.06-.94-2.06-.94-.94-2.06-.94 2.06-2.06.94z\"/><path d=\"M17.41 7.96l-1.37-1.37c-.4-.4-.92-.59-1.43-.59-.52 0-1.04.2-1.43.59L10.3 9.45l-7.72 7.72c-.78.78-.78 2.05 0 2.83L4 21.41c.39.39.9.59 1.41.59.51 0 1.02-.2 1.41-.59l7.78-7.78 2.81-2.81c.8-.78.8-2.07 0-2.86zM5.41 20L4 18.59l7.72-7.72 1.47 1.35L5.41 20z\"/>\n",
              "  </svg>\n",
              "      </button>\n",
              "      \n",
              "  <style>\n",
              "    .colab-df-container {\n",
              "      display:flex;\n",
              "      flex-wrap:wrap;\n",
              "      gap: 12px;\n",
              "    }\n",
              "\n",
              "    .colab-df-convert {\n",
              "      background-color: #E8F0FE;\n",
              "      border: none;\n",
              "      border-radius: 50%;\n",
              "      cursor: pointer;\n",
              "      display: none;\n",
              "      fill: #1967D2;\n",
              "      height: 32px;\n",
              "      padding: 0 0 0 0;\n",
              "      width: 32px;\n",
              "    }\n",
              "\n",
              "    .colab-df-convert:hover {\n",
              "      background-color: #E2EBFA;\n",
              "      box-shadow: 0px 1px 2px rgba(60, 64, 67, 0.3), 0px 1px 3px 1px rgba(60, 64, 67, 0.15);\n",
              "      fill: #174EA6;\n",
              "    }\n",
              "\n",
              "    [theme=dark] .colab-df-convert {\n",
              "      background-color: #3B4455;\n",
              "      fill: #D2E3FC;\n",
              "    }\n",
              "\n",
              "    [theme=dark] .colab-df-convert:hover {\n",
              "      background-color: #434B5C;\n",
              "      box-shadow: 0px 1px 3px 1px rgba(0, 0, 0, 0.15);\n",
              "      filter: drop-shadow(0px 1px 2px rgba(0, 0, 0, 0.3));\n",
              "      fill: #FFFFFF;\n",
              "    }\n",
              "  </style>\n",
              "\n",
              "      <script>\n",
              "        const buttonEl =\n",
              "          document.querySelector('#df-73ac21e2-5a1e-4251-9749-bfb471efe1a9 button.colab-df-convert');\n",
              "        buttonEl.style.display =\n",
              "          google.colab.kernel.accessAllowed ? 'block' : 'none';\n",
              "\n",
              "        async function convertToInteractive(key) {\n",
              "          const element = document.querySelector('#df-73ac21e2-5a1e-4251-9749-bfb471efe1a9');\n",
              "          const dataTable =\n",
              "            await google.colab.kernel.invokeFunction('convertToInteractive',\n",
              "                                                     [key], {});\n",
              "          if (!dataTable) return;\n",
              "\n",
              "          const docLinkHtml = 'Like what you see? Visit the ' +\n",
              "            '<a target=\"_blank\" href=https://colab.research.google.com/notebooks/data_table.ipynb>data table notebook</a>'\n",
              "            + ' to learn more about interactive tables.';\n",
              "          element.innerHTML = '';\n",
              "          dataTable['output_type'] = 'display_data';\n",
              "          await google.colab.output.renderOutput(dataTable, element);\n",
              "          const docLink = document.createElement('div');\n",
              "          docLink.innerHTML = docLinkHtml;\n",
              "          element.appendChild(docLink);\n",
              "        }\n",
              "      </script>\n",
              "    </div>\n",
              "  </div>\n",
              "  "
            ]
          },
          "metadata": {},
          "execution_count": 60
        }
      ],
      "source": [
        "stats = []\n",
        "for col in df.columns:\n",
        "    stats.append((col, df[col].nunique(), df[col].isnull().sum() * 100 / df.shape[0], df[col].value_counts(normalize=True, dropna=False).values[0] * 100, df[col].dtype))\n",
        "    \n",
        "stats_df = pd.DataFrame(stats, columns=['Feature', 'Unique_values', 'Percentage of missing values', 'Percentage of values in the biggest category', 'type'])\n",
        "stats_df.sort_values('Percentage of missing values', ascending=False)"
      ]
    },
    {
      "cell_type": "markdown",
      "metadata": {
        "id": "KecnBKigY9jA"
      },
      "source": [
        "## Nulls: impute values"
      ]
    },
    {
      "cell_type": "markdown",
      "metadata": {
        "id": "RQ9TA95Rn9iO"
      },
      "source": [
        "* Imputar cero, valor fijo, media o moda"
      ]
    },
    {
      "cell_type": "markdown",
      "metadata": {
        "id": "7Sr171XbLru8"
      },
      "source": [
        "Eliminamos columnas con un porcentaje de nulos mayor al 95%"
      ]
    },
    {
      "cell_type": "code",
      "execution_count": null,
      "metadata": {
        "id": "ZWuku7u2qGu2"
      },
      "outputs": [],
      "source": [
        "porcentaje_nulos = df.isnull().sum()/len(df)*100"
      ]
    },
    {
      "cell_type": "code",
      "execution_count": null,
      "metadata": {
        "id": "Px-Ux31QqKaG"
      },
      "outputs": [],
      "source": [
        "columnas_eliminar = porcentaje_nulos[porcentaje_nulos > 95].index"
      ]
    },
    {
      "cell_type": "code",
      "execution_count": null,
      "metadata": {
        "colab": {
          "base_uri": "https://localhost:8080/"
        },
        "id": "EdDVV4Z4LpL3",
        "outputId": "f9134749-b189-4b13-846a-b379c2a8f5a9"
      },
      "outputs": [
        {
          "output_type": "execute_result",
          "data": {
            "text/plain": [
              "Index([], dtype='object')"
            ]
          },
          "metadata": {},
          "execution_count": 63
        }
      ],
      "source": [
        "columnas_eliminar"
      ]
    },
    {
      "cell_type": "code",
      "execution_count": null,
      "metadata": {
        "id": "66bA5jJoLfym"
      },
      "outputs": [],
      "source": [
        "df= df.drop(columnas_eliminar, axis=1)"
      ]
    },
    {
      "cell_type": "code",
      "execution_count": null,
      "metadata": {
        "colab": {
          "base_uri": "https://localhost:8080/"
        },
        "id": "XzG4St_2kcXP",
        "outputId": "12875ac8-a81f-4f79-e126-4d77d5eed199"
      },
      "outputs": [
        {
          "output_type": "execute_result",
          "data": {
            "text/plain": [
              "EngineVersion                                            0\n",
              "AppVersion                                               0\n",
              "AvSigVersion                                             0\n",
              "AVProductsInstalled                                   1938\n",
              "CountryIdentifier                                        0\n",
              "LocaleEnglishNameIdentifier                              0\n",
              "OsBuild                                                  0\n",
              "OsSuite                                                  0\n",
              "OsPlatformSubRelease                                     0\n",
              "SkuEdition                                               0\n",
              "IeVerIdentifier                                          0\n",
              "SmartScreen                                              0\n",
              "Census_MDC2FormFactor                                    0\n",
              "Census_ProcessorCoreCount                                0\n",
              "Census_ProcessorManufacturerIdentifier                2345\n",
              "Census_PrimaryDiskTotalCapacity                          0\n",
              "Census_PrimaryDiskTypeName                               0\n",
              "Census_SystemVolumeTotalCapacity                      2971\n",
              "Census_HasOpticalDiskDrive                               0\n",
              "Census_TotalPhysicalRAM                                  0\n",
              "Census_InternalPrimaryDiagonalDisplaySizeInInches     2653\n",
              "Census_InternalPrimaryDisplayResolutionHorizontal     2649\n",
              "Census_InternalPrimaryDisplayResolutionVertical       2649\n",
              "Census_InternalBatteryNumberOfCharges                15014\n",
              "Census_OSArchitecture                                    0\n",
              "Census_OSBranch                                          0\n",
              "Census_OSBuildNumber                                     0\n",
              "Census_OSEdition                                         0\n",
              "Census_OSInstallTypeName                                 0\n",
              "Census_OSInstallLanguageIdentifier                    3327\n",
              "Census_OSWUAutoUpdateOptionsName                         0\n",
              "Census_ActivationChannel                                 0\n",
              "Census_FirmwareManufacturerIdentifier                    0\n",
              "Census_IsSecureBootEnabled                               0\n",
              "Census_IsTouchEnabled                                    0\n",
              "Census_IsPenCapable                                      0\n",
              "Census_IsAlwaysOnAlwaysConnectedCapable               4035\n",
              "Wdft_IsGamer                                         16902\n",
              "HasDetections                                            0\n",
              "dtype: int64"
            ]
          },
          "metadata": {},
          "execution_count": 65
        }
      ],
      "source": [
        "df.isna().sum()"
      ]
    },
    {
      "cell_type": "code",
      "execution_count": null,
      "metadata": {
        "colab": {
          "base_uri": "https://localhost:8080/"
        },
        "id": "plf0Td_Yo2QS",
        "outputId": "e9013b40-ac47-425b-a7e2-bd427aa2e30b"
      },
      "outputs": [
        {
          "output_type": "execute_result",
          "data": {
            "text/plain": [
              "Census_SystemVolumeTotalCapacity          2971\n",
              "Census_InternalBatteryNumberOfCharges    15014\n",
              "CountryIdentifier                            0\n",
              "dtype: int64"
            ]
          },
          "metadata": {},
          "execution_count": 66
        }
      ],
      "source": [
        "df[numerical_float_columns].isnull().sum()"
      ]
    },
    {
      "cell_type": "code",
      "execution_count": null,
      "metadata": {
        "id": "HAdsUoLRpKjn"
      },
      "outputs": [],
      "source": [
        "for col in df[numerical_float_columns]:\n",
        "  df[col].fillna(0, inplace = True)"
      ]
    },
    {
      "cell_type": "code",
      "source": [
        "columnasborradas =[\"Census_ProcessorClass\", \"AVProductStatesIdentifier\"]\n",
        "categorical_columns =[col for col in categorical_columns if col not in columnasborradas] \n",
        "categorical_columns += ['OsSuite','Census_ProcessorCoreCount','Census_ProcessorManufacturerIdentifier','Census_OSBuildNumber','Census_FirmwareManufacturerIdentifier','AVProductsInstalled']"
      ],
      "metadata": {
        "id": "xZ8kkSSHGUpb"
      },
      "execution_count": null,
      "outputs": []
    },
    {
      "cell_type": "code",
      "execution_count": null,
      "metadata": {
        "colab": {
          "base_uri": "https://localhost:8080/"
        },
        "id": "xnM_URspo_bq",
        "outputId": "21806c36-0517-4c88-f0d3-0804c2d75837"
      },
      "outputs": [
        {
          "output_type": "execute_result",
          "data": {
            "text/plain": [
              "EngineVersion                                0\n",
              "OsPlatformSubRelease                         0\n",
              "SkuEdition                                   0\n",
              "SmartScreen                                  0\n",
              "Census_MDC2FormFactor                        0\n",
              "Census_PrimaryDiskTypeName                   0\n",
              "Census_OSArchitecture                        0\n",
              "Census_OSBranch                              0\n",
              "Census_OSEdition                             0\n",
              "Census_OSInstallTypeName                     0\n",
              "Census_OSWUAutoUpdateOptionsName             0\n",
              "Census_ActivationChannel                     0\n",
              "OsSuite                                      0\n",
              "Census_ProcessorCoreCount                    0\n",
              "Census_ProcessorManufacturerIdentifier    2345\n",
              "Census_OSBuildNumber                         0\n",
              "Census_FirmwareManufacturerIdentifier        0\n",
              "AVProductsInstalled                       1938\n",
              "dtype: int64"
            ]
          },
          "metadata": {},
          "execution_count": 69
        }
      ],
      "source": [
        "df[categorical_columns].isnull().sum()"
      ]
    },
    {
      "cell_type": "code",
      "source": [
        "df.nunique()"
      ],
      "metadata": {
        "colab": {
          "base_uri": "https://localhost:8080/"
        },
        "id": "4zP9J8zytRDX",
        "outputId": "50bef7f9-3f14-4f33-a40c-aa1cbb9b7cce"
      },
      "execution_count": null,
      "outputs": [
        {
          "output_type": "execute_result",
          "data": {
            "text/plain": [
              "EngineVersion                                             5\n",
              "AppVersion                                               15\n",
              "AvSigVersion                                             11\n",
              "AVProductsInstalled                                       5\n",
              "CountryIdentifier                                       222\n",
              "LocaleEnglishNameIdentifier                             233\n",
              "OsBuild                                                  48\n",
              "OsSuite                                                   3\n",
              "OsPlatformSubRelease                                      9\n",
              "SkuEdition                                                3\n",
              "IeVerIdentifier                                           2\n",
              "SmartScreen                                               3\n",
              "Census_MDC2FormFactor                                     3\n",
              "Census_ProcessorCoreCount                                 3\n",
              "Census_ProcessorManufacturerIdentifier                    4\n",
              "Census_PrimaryDiskTotalCapacity                           2\n",
              "Census_PrimaryDiskTypeName                                3\n",
              "Census_SystemVolumeTotalCapacity                     142052\n",
              "Census_HasOpticalDiskDrive                                2\n",
              "Census_TotalPhysicalRAM                                   2\n",
              "Census_InternalPrimaryDiagonalDisplaySizeInInches       520\n",
              "Census_InternalPrimaryDisplayResolutionHorizontal       474\n",
              "Census_InternalPrimaryDisplayResolutionVertical         514\n",
              "Census_InternalBatteryNumberOfCharges                  5248\n",
              "Census_OSArchitecture                                     3\n",
              "Census_OSBranch                                          15\n",
              "Census_OSBuildNumber                                      3\n",
              "Census_OSEdition                                          3\n",
              "Census_OSInstallTypeName                                  9\n",
              "Census_OSInstallLanguageIdentifier                       39\n",
              "Census_OSWUAutoUpdateOptionsName                          3\n",
              "Census_ActivationChannel                                  6\n",
              "Census_FirmwareManufacturerIdentifier                     6\n",
              "Census_IsSecureBootEnabled                                2\n",
              "Census_IsTouchEnabled                                     2\n",
              "Census_IsPenCapable                                       2\n",
              "Census_IsAlwaysOnAlwaysConnectedCapable                   2\n",
              "Wdft_IsGamer                                              2\n",
              "HasDetections                                             2\n",
              "dtype: int64"
            ]
          },
          "metadata": {},
          "execution_count": 70
        }
      ]
    },
    {
      "cell_type": "code",
      "source": [
        "df[\"AVProductsInstalled\"].fillna(\"1\", inplace = True)"
      ],
      "metadata": {
        "id": "5YmMYSFUt0wL"
      },
      "execution_count": null,
      "outputs": []
    },
    {
      "cell_type": "code",
      "source": [
        "# df.drop(columns=['Census_OEMNameIdentifier','Census_OEMModelIdentifier','Census_ProcessorModelIdentifier','Census_ProcessorModelIdentifier','Census_PowerPlatformRoleName'], inplace=True)"
      ],
      "metadata": {
        "id": "l9jATR9JuYc0"
      },
      "execution_count": null,
      "outputs": []
    },
    {
      "cell_type": "code",
      "source": [
        "df[\"Census_ProcessorManufacturerIdentifier\"].fillna('otros', inplace = True)"
      ],
      "metadata": {
        "id": "vB6qBXjJvIuc"
      },
      "execution_count": null,
      "outputs": []
    },
    {
      "cell_type": "code",
      "source": [
        "df['Census_InternalPrimaryDisplayResolutionHorizontal'].fillna(1366, inplace = True)"
      ],
      "metadata": {
        "id": "8-fDsct0wtz-"
      },
      "execution_count": null,
      "outputs": []
    },
    {
      "cell_type": "code",
      "source": [
        "df['Census_InternalPrimaryDisplayResolutionVertical'].fillna(768, inplace = True)"
      ],
      "metadata": {
        "id": "V6NhkGRnxCzv"
      },
      "execution_count": null,
      "outputs": []
    },
    {
      "cell_type": "code",
      "source": [
        "df['Census_InternalPrimaryDiagonalDisplaySizeInInches'].fillna(15, inplace = True)"
      ],
      "metadata": {
        "id": "G9bO5yCRxDMC"
      },
      "execution_count": null,
      "outputs": []
    },
    {
      "cell_type": "code",
      "source": [
        "df['Census_OSInstallLanguageIdentifier'].fillna(8.0, inplace = True)"
      ],
      "metadata": {
        "id": "q5DNtyI6xvkO"
      },
      "execution_count": null,
      "outputs": []
    },
    {
      "cell_type": "code",
      "source": [
        "df['Census_IsAlwaysOnAlwaysConnectedCapable'].fillna(0, inplace = True)"
      ],
      "metadata": {
        "id": "K-423-ps2BNj"
      },
      "execution_count": null,
      "outputs": []
    },
    {
      "cell_type": "code",
      "source": [
        "df['Wdft_IsGamer'].fillna(0, inplace = True)"
      ],
      "metadata": {
        "id": "743ZcQGB2CDy"
      },
      "execution_count": null,
      "outputs": []
    },
    {
      "cell_type": "code",
      "execution_count": null,
      "metadata": {
        "colab": {
          "base_uri": "https://localhost:8080/"
        },
        "id": "jfGcL7OOsmkL",
        "outputId": "6b33d4ef-bff4-435c-ce4a-82a6850befbd"
      },
      "outputs": [
        {
          "output_type": "execute_result",
          "data": {
            "text/plain": [
              "EngineVersion                                        0\n",
              "AppVersion                                           0\n",
              "AvSigVersion                                         0\n",
              "AVProductsInstalled                                  0\n",
              "CountryIdentifier                                    0\n",
              "LocaleEnglishNameIdentifier                          0\n",
              "OsBuild                                              0\n",
              "OsSuite                                              0\n",
              "OsPlatformSubRelease                                 0\n",
              "SkuEdition                                           0\n",
              "IeVerIdentifier                                      0\n",
              "SmartScreen                                          0\n",
              "Census_MDC2FormFactor                                0\n",
              "Census_ProcessorCoreCount                            0\n",
              "Census_ProcessorManufacturerIdentifier               0\n",
              "Census_PrimaryDiskTotalCapacity                      0\n",
              "Census_PrimaryDiskTypeName                           0\n",
              "Census_SystemVolumeTotalCapacity                     0\n",
              "Census_HasOpticalDiskDrive                           0\n",
              "Census_TotalPhysicalRAM                              0\n",
              "Census_InternalPrimaryDiagonalDisplaySizeInInches    0\n",
              "Census_InternalPrimaryDisplayResolutionHorizontal    0\n",
              "Census_InternalPrimaryDisplayResolutionVertical      0\n",
              "Census_InternalBatteryNumberOfCharges                0\n",
              "Census_OSArchitecture                                0\n",
              "Census_OSBranch                                      0\n",
              "Census_OSBuildNumber                                 0\n",
              "Census_OSEdition                                     0\n",
              "Census_OSInstallTypeName                             0\n",
              "Census_OSInstallLanguageIdentifier                   0\n",
              "Census_OSWUAutoUpdateOptionsName                     0\n",
              "Census_ActivationChannel                             0\n",
              "Census_FirmwareManufacturerIdentifier                0\n",
              "Census_IsSecureBootEnabled                           0\n",
              "Census_IsTouchEnabled                                0\n",
              "Census_IsPenCapable                                  0\n",
              "Census_IsAlwaysOnAlwaysConnectedCapable              0\n",
              "Wdft_IsGamer                                         0\n",
              "HasDetections                                        0\n",
              "dtype: int64"
            ]
          },
          "metadata": {},
          "execution_count": 80
        }
      ],
      "source": [
        "df.isnull().sum()"
      ]
    },
    {
      "cell_type": "code",
      "execution_count": null,
      "metadata": {
        "colab": {
          "base_uri": "https://localhost:8080/"
        },
        "id": "P4EhKbKitlI9",
        "outputId": "1160bd39-5934-4cd9-f99e-dfe332a5f4b1"
      },
      "outputs": [
        {
          "output_type": "execute_result",
          "data": {
            "text/plain": [
              "Census_HasOpticalDiskDrive                 0\n",
              "Census_IsSecureBootEnabled                 0\n",
              "Census_IsTouchEnabled                      0\n",
              "Census_IsPenCapable                        0\n",
              "Census_IsAlwaysOnAlwaysConnectedCapable    0\n",
              "Wdft_IsGamer                               0\n",
              "dtype: int64"
            ]
          },
          "metadata": {},
          "execution_count": 81
        }
      ],
      "source": [
        "df[binary_columns].isnull().sum()"
      ]
    },
    {
      "cell_type": "code",
      "execution_count": null,
      "metadata": {
        "colab": {
          "base_uri": "https://localhost:8080/"
        },
        "id": "ZmoBYxDCmEra",
        "outputId": "cb178927-aa2c-41ba-b579-743b97ffad76"
      },
      "outputs": [
        {
          "output_type": "execute_result",
          "data": {
            "text/plain": [
              "(498291, 39)"
            ]
          },
          "metadata": {},
          "execution_count": 82
        }
      ],
      "source": [
        "df.shape"
      ]
    },
    {
      "cell_type": "code",
      "execution_count": null,
      "metadata": {
        "id": "feaVLZ7RRtcl"
      },
      "outputs": [],
      "source": [
        "#df_sub = df.sample(100000,random_state=42)"
      ]
    },
    {
      "cell_type": "code",
      "execution_count": null,
      "metadata": {
        "id": "htTTwGUXRzyL"
      },
      "outputs": [],
      "source": [
        "#df_sub.shape"
      ]
    },
    {
      "cell_type": "code",
      "execution_count": null,
      "metadata": {
        "colab": {
          "base_uri": "https://localhost:8080/"
        },
        "id": "_GB1ibyaFUMX",
        "outputId": "cae949e8-8294-4a7c-b160-d0cef58255d7"
      },
      "outputs": [
        {
          "output_type": "execute_result",
          "data": {
            "text/plain": [
              "['EngineVersion',\n",
              " 'OsPlatformSubRelease',\n",
              " 'SkuEdition',\n",
              " 'SmartScreen',\n",
              " 'Census_MDC2FormFactor',\n",
              " 'Census_PrimaryDiskTypeName',\n",
              " 'Census_OSArchitecture',\n",
              " 'Census_OSBranch',\n",
              " 'Census_OSEdition',\n",
              " 'Census_OSInstallTypeName',\n",
              " 'Census_OSWUAutoUpdateOptionsName',\n",
              " 'Census_ActivationChannel',\n",
              " 'OsSuite',\n",
              " 'Census_ProcessorCoreCount',\n",
              " 'Census_ProcessorManufacturerIdentifier',\n",
              " 'Census_OSBuildNumber',\n",
              " 'Census_FirmwareManufacturerIdentifier',\n",
              " 'AVProductsInstalled']"
            ]
          },
          "metadata": {},
          "execution_count": 85
        }
      ],
      "source": [
        "categorical_columns\n"
      ]
    },
    {
      "cell_type": "markdown",
      "metadata": {
        "id": "QGswKrzNeiUN"
      },
      "source": [
        "## Encoding categories"
      ]
    },
    {
      "cell_type": "markdown",
      "metadata": {
        "id": "671Y_eb2kULA"
      },
      "source": [
        "* Si tienen escala, asignar valor numerico dentro de escala (ejemplo: \"1-Bajo, 2-Medio, 3-Alto\") (.replace)\n",
        "* One Hot Encoding en resto de categoricos (pd.get_dummies())"
      ]
    },
    {
      "cell_type": "code",
      "source": [
        "df[categorical_columns].nunique()"
      ],
      "metadata": {
        "colab": {
          "base_uri": "https://localhost:8080/"
        },
        "id": "TIgikTm05l9n",
        "outputId": "4c721301-71f5-4307-f6cc-96805b1e7192"
      },
      "execution_count": null,
      "outputs": [
        {
          "output_type": "execute_result",
          "data": {
            "text/plain": [
              "EngineVersion                              5\n",
              "OsPlatformSubRelease                       9\n",
              "SkuEdition                                 3\n",
              "SmartScreen                                3\n",
              "Census_MDC2FormFactor                      3\n",
              "Census_PrimaryDiskTypeName                 3\n",
              "Census_OSArchitecture                      3\n",
              "Census_OSBranch                           15\n",
              "Census_OSEdition                           3\n",
              "Census_OSInstallTypeName                   9\n",
              "Census_OSWUAutoUpdateOptionsName           3\n",
              "Census_ActivationChannel                   6\n",
              "OsSuite                                    3\n",
              "Census_ProcessorCoreCount                  3\n",
              "Census_ProcessorManufacturerIdentifier     5\n",
              "Census_OSBuildNumber                       3\n",
              "Census_FirmwareManufacturerIdentifier      6\n",
              "AVProductsInstalled                        6\n",
              "dtype: int64"
            ]
          },
          "metadata": {},
          "execution_count": 86
        }
      ]
    },
    {
      "cell_type": "code",
      "source": [
        "l_cat_ordinal"
      ],
      "metadata": {
        "colab": {
          "base_uri": "https://localhost:8080/"
        },
        "id": "OAhNeyR5-fOr",
        "outputId": "f0dd2f6b-d1ea-4906-e26a-fedf49ac0ae7"
      },
      "execution_count": null,
      "outputs": [
        {
          "output_type": "execute_result",
          "data": {
            "text/plain": [
              "['Census_InternalPrimaryDiagonalDisplaySizeInInches',\n",
              " 'Census_InternalPrimaryDisplayResolutionHorizontal',\n",
              " 'AppVersion',\n",
              " 'AvSigVersion',\n",
              " 'Census_InternalPrimaryDisplayResolutionVertical',\n",
              " 'Census_OSInstallLanguageIdentifier']"
            ]
          },
          "metadata": {},
          "execution_count": 87
        }
      ]
    },
    {
      "cell_type": "code",
      "source": [
        "df.columns"
      ],
      "metadata": {
        "colab": {
          "base_uri": "https://localhost:8080/"
        },
        "id": "GK-QLLPm6RRx",
        "outputId": "b69a36dc-f24e-40fb-f655-7e5b653f2999"
      },
      "execution_count": null,
      "outputs": [
        {
          "output_type": "execute_result",
          "data": {
            "text/plain": [
              "Index(['EngineVersion', 'AppVersion', 'AvSigVersion', 'AVProductsInstalled',\n",
              "       'CountryIdentifier', 'LocaleEnglishNameIdentifier', 'OsBuild',\n",
              "       'OsSuite', 'OsPlatformSubRelease', 'SkuEdition', 'IeVerIdentifier',\n",
              "       'SmartScreen', 'Census_MDC2FormFactor', 'Census_ProcessorCoreCount',\n",
              "       'Census_ProcessorManufacturerIdentifier',\n",
              "       'Census_PrimaryDiskTotalCapacity', 'Census_PrimaryDiskTypeName',\n",
              "       'Census_SystemVolumeTotalCapacity', 'Census_HasOpticalDiskDrive',\n",
              "       'Census_TotalPhysicalRAM',\n",
              "       'Census_InternalPrimaryDiagonalDisplaySizeInInches',\n",
              "       'Census_InternalPrimaryDisplayResolutionHorizontal',\n",
              "       'Census_InternalPrimaryDisplayResolutionVertical',\n",
              "       'Census_InternalBatteryNumberOfCharges', 'Census_OSArchitecture',\n",
              "       'Census_OSBranch', 'Census_OSBuildNumber', 'Census_OSEdition',\n",
              "       'Census_OSInstallTypeName', 'Census_OSInstallLanguageIdentifier',\n",
              "       'Census_OSWUAutoUpdateOptionsName', 'Census_ActivationChannel',\n",
              "       'Census_FirmwareManufacturerIdentifier', 'Census_IsSecureBootEnabled',\n",
              "       'Census_IsTouchEnabled', 'Census_IsPenCapable',\n",
              "       'Census_IsAlwaysOnAlwaysConnectedCapable', 'Wdft_IsGamer',\n",
              "       'HasDetections'],\n",
              "      dtype='object')"
            ]
          },
          "metadata": {},
          "execution_count": 88
        }
      ]
    },
    {
      "cell_type": "code",
      "source": [
        "categorical_columns"
      ],
      "metadata": {
        "colab": {
          "base_uri": "https://localhost:8080/"
        },
        "id": "HcXlqAPH_m3I",
        "outputId": "0fe275d1-7235-4a06-9dff-93e1d709d49e"
      },
      "execution_count": null,
      "outputs": [
        {
          "output_type": "execute_result",
          "data": {
            "text/plain": [
              "['EngineVersion',\n",
              " 'OsPlatformSubRelease',\n",
              " 'SkuEdition',\n",
              " 'SmartScreen',\n",
              " 'Census_MDC2FormFactor',\n",
              " 'Census_PrimaryDiskTypeName',\n",
              " 'Census_OSArchitecture',\n",
              " 'Census_OSBranch',\n",
              " 'Census_OSEdition',\n",
              " 'Census_OSInstallTypeName',\n",
              " 'Census_OSWUAutoUpdateOptionsName',\n",
              " 'Census_ActivationChannel',\n",
              " 'OsSuite',\n",
              " 'Census_ProcessorCoreCount',\n",
              " 'Census_ProcessorManufacturerIdentifier',\n",
              " 'Census_OSBuildNumber',\n",
              " 'Census_FirmwareManufacturerIdentifier',\n",
              " 'AVProductsInstalled']"
            ]
          },
          "metadata": {},
          "execution_count": 89
        }
      ]
    },
    {
      "cell_type": "markdown",
      "source": [],
      "metadata": {
        "id": "SDAG4p9FA3fq"
      }
    },
    {
      "cell_type": "code",
      "source": [
        "categorical_columns = categorical_columns +['IeVerIdentifier','Census_PrimaryDiskTotalCapacity','Census_TotalPhysicalRAM'] "
      ],
      "metadata": {
        "id": "WqZbiLaG3FRU"
      },
      "execution_count": null,
      "outputs": []
    },
    {
      "cell_type": "code",
      "source": [
        "categorical_columns"
      ],
      "metadata": {
        "colab": {
          "base_uri": "https://localhost:8080/"
        },
        "id": "xZEBCdHfKFeZ",
        "outputId": "21acffed-7a59-4b04-f844-d247e6e8f99d"
      },
      "execution_count": null,
      "outputs": [
        {
          "output_type": "execute_result",
          "data": {
            "text/plain": [
              "['EngineVersion',\n",
              " 'OsPlatformSubRelease',\n",
              " 'SkuEdition',\n",
              " 'SmartScreen',\n",
              " 'Census_MDC2FormFactor',\n",
              " 'Census_PrimaryDiskTypeName',\n",
              " 'Census_OSArchitecture',\n",
              " 'Census_OSBranch',\n",
              " 'Census_OSEdition',\n",
              " 'Census_OSInstallTypeName',\n",
              " 'Census_OSWUAutoUpdateOptionsName',\n",
              " 'Census_ActivationChannel',\n",
              " 'OsSuite',\n",
              " 'Census_ProcessorCoreCount',\n",
              " 'Census_ProcessorManufacturerIdentifier',\n",
              " 'Census_OSBuildNumber',\n",
              " 'Census_FirmwareManufacturerIdentifier',\n",
              " 'AVProductsInstalled',\n",
              " 'IeVerIdentifier',\n",
              " 'Census_PrimaryDiskTotalCapacity',\n",
              " 'Census_TotalPhysicalRAM']"
            ]
          },
          "metadata": {},
          "execution_count": 91
        }
      ]
    },
    {
      "cell_type": "code",
      "execution_count": null,
      "metadata": {
        "id": "PRlVr04AdaYx"
      },
      "outputs": [],
      "source": [
        "df = pd.get_dummies(df, columns = categorical_columns)"
      ]
    },
    {
      "cell_type": "code",
      "source": [
        "df.shape"
      ],
      "metadata": {
        "colab": {
          "base_uri": "https://localhost:8080/"
        },
        "id": "_v18BGG-3ENG",
        "outputId": "63d976e4-99e1-48de-bcc7-a417525fb882"
      },
      "execution_count": null,
      "outputs": [
        {
          "output_type": "execute_result",
          "data": {
            "text/plain": [
              "(498291, 115)"
            ]
          },
          "metadata": {},
          "execution_count": 93
        }
      ]
    },
    {
      "cell_type": "code",
      "source": [
        "df.info()"
      ],
      "metadata": {
        "colab": {
          "base_uri": "https://localhost:8080/"
        },
        "id": "VxklfYlbsyhn",
        "outputId": "17c22754-28d1-4b3a-fe1e-f3201cb42d31"
      },
      "execution_count": null,
      "outputs": [
        {
          "output_type": "stream",
          "name": "stdout",
          "text": [
            "<class 'pandas.core.frame.DataFrame'>\n",
            "Int64Index: 498291 entries, 0 to 499999\n",
            "Columns: 115 entries, AppVersion to Census_TotalPhysicalRAM_<=4gb\n",
            "dtypes: float64(8), int64(8), object(2), uint8(97)\n",
            "memory usage: 118.3+ MB\n"
          ]
        }
      ]
    },
    {
      "cell_type": "code",
      "source": [
        "l_cat_ordinal"
      ],
      "metadata": {
        "colab": {
          "base_uri": "https://localhost:8080/"
        },
        "id": "GrxF2FQ8oKmJ",
        "outputId": "10374344-893b-4a86-f9de-e00dd3825192"
      },
      "execution_count": null,
      "outputs": [
        {
          "output_type": "execute_result",
          "data": {
            "text/plain": [
              "['Census_InternalPrimaryDiagonalDisplaySizeInInches',\n",
              " 'Census_InternalPrimaryDisplayResolutionHorizontal',\n",
              " 'AppVersion',\n",
              " 'AvSigVersion',\n",
              " 'Census_InternalPrimaryDisplayResolutionVertical',\n",
              " 'Census_OSInstallLanguageIdentifier']"
            ]
          },
          "metadata": {},
          "execution_count": 95
        }
      ]
    },
    {
      "cell_type": "code",
      "source": [
        "#for col in l_cat_ordinal:\n",
        "    #df[col] = df[col].astype(\"int64\")"
      ],
      "metadata": {
        "id": "Nq3f-OhGtGVJ"
      },
      "execution_count": null,
      "outputs": []
    },
    {
      "cell_type": "code",
      "source": [
        "from sklearn.preprocessing import OrdinalEncoder"
      ],
      "metadata": {
        "id": "1HXZd_UwWgpD"
      },
      "execution_count": null,
      "outputs": []
    },
    {
      "cell_type": "code",
      "source": [
        "oe = OrdinalEncoder()"
      ],
      "metadata": {
        "id": "hhugzEKIWjyt"
      },
      "execution_count": null,
      "outputs": []
    },
    {
      "cell_type": "code",
      "source": [
        "for col in df[l_cat_ordinal]:\n",
        "  df[col] = OrdinalEncoder().fit_transform(df[col].values.reshape(-1,1))\n",
        "  print(df[col].value_counts())"
      ],
      "metadata": {
        "colab": {
          "base_uri": "https://localhost:8080/"
        },
        "id": "y6SUGPO24iig",
        "outputId": "c202324a-98b5-4b78-ec75-1e92587adbe8"
      },
      "execution_count": null,
      "outputs": [
        {
          "output_type": "stream",
          "name": "stdout",
          "text": [
            "94.0     170868\n",
            "78.0      52384\n",
            "79.0      30462\n",
            "55.0      17358\n",
            "154.0     15385\n",
            "          ...  \n",
            "498.0         1\n",
            "384.0         1\n",
            "438.0         1\n",
            "13.0          1\n",
            "506.0         1\n",
            "Name: Census_InternalPrimaryDiagonalDisplaySizeInInches, Length: 520, dtype: int64\n",
            "161.0    253541\n",
            "341.0    124679\n",
            "125.0     29648\n",
            "229.0     28174\n",
            "48.0      19301\n",
            "          ...  \n",
            "122.0         1\n",
            "267.0         1\n",
            "46.0          1\n",
            "293.0         1\n",
            "472.0         1\n",
            "Name: Census_InternalPrimaryDisplayResolutionHorizontal, Length: 474, dtype: int64\n",
            "8.0     335948\n",
            "2.0      30785\n",
            "3.0      29047\n",
            "0.0      25559\n",
            "14.0     23174\n",
            "13.0     15232\n",
            "4.0      13722\n",
            "6.0      13185\n",
            "1.0      11366\n",
            "10.0       126\n",
            "12.0        46\n",
            "11.0        44\n",
            "9.0         27\n",
            "7.0         22\n",
            "5.0          8\n",
            "Name: AppVersion, dtype: int64\n",
            "10.0    445755\n",
            "9.0      34116\n",
            "8.0       9647\n",
            "6.0       5485\n",
            "7.0       2372\n",
            "5.0        896\n",
            "3.0          7\n",
            "4.0          5\n",
            "0.0          4\n",
            "2.0          3\n",
            "1.0          1\n",
            "Name: AvSigVersion, dtype: int64\n",
            "114.0    279279\n",
            "316.0    120741\n",
            "191.0     36836\n",
            "134.0     14655\n",
            "290.0     10593\n",
            "          ...  \n",
            "471.0         1\n",
            "358.0         1\n",
            "492.0         1\n",
            "182.0         1\n",
            "436.0         1\n",
            "Name: Census_InternalPrimaryDisplayResolutionVertical, Length: 514, dtype: int64\n",
            "7.0     181220\n",
            "8.0      57732\n",
            "6.0      28678\n",
            "28.0     27587\n",
            "13.0     24141\n",
            "36.0     22529\n",
            "9.0      20068\n",
            "25.0     18360\n",
            "4.0      14073\n",
            "34.0     11434\n",
            "38.0     11202\n",
            "17.0     10576\n",
            "19.0      9498\n",
            "23.0      8120\n",
            "24.0      7490\n",
            "26.0      5942\n",
            "18.0      4765\n",
            "16.0      4689\n",
            "0.0       4505\n",
            "2.0       4064\n",
            "5.0       2872\n",
            "32.0      2807\n",
            "14.0      2311\n",
            "3.0       1996\n",
            "29.0      1791\n",
            "22.0      1650\n",
            "30.0      1211\n",
            "11.0      1117\n",
            "1.0       1096\n",
            "35.0       841\n",
            "15.0       836\n",
            "27.0       710\n",
            "33.0       584\n",
            "12.0       580\n",
            "20.0       412\n",
            "31.0       244\n",
            "10.0       197\n",
            "37.0       185\n",
            "21.0       178\n",
            "Name: Census_OSInstallLanguageIdentifier, dtype: int64\n"
          ]
        }
      ]
    },
    {
      "cell_type": "code",
      "source": [
        "df.head()"
      ],
      "metadata": {
        "colab": {
          "base_uri": "https://localhost:8080/",
          "height": 299
        },
        "id": "7UXmuKhJ4wAM",
        "outputId": "7b1c5c28-4f85-43ef-9ce1-a8c3f93ab12e"
      },
      "execution_count": null,
      "outputs": [
        {
          "output_type": "execute_result",
          "data": {
            "text/plain": [
              "   AppVersion  AvSigVersion  CountryIdentifier  LocaleEnglishNameIdentifier  \\\n",
              "0         8.0          10.0                  8                          172   \n",
              "1         8.0          10.0                129                          124   \n",
              "2        14.0          10.0                149                           56   \n",
              "3         8.0          10.0                164                          172   \n",
              "4         8.0          10.0                207                           75   \n",
              "\n",
              "   OsBuild  Census_SystemVolumeTotalCapacity  Census_HasOpticalDiskDrive  \\\n",
              "0    17134                          952838.0                           0   \n",
              "1    17134                          457600.0                           0   \n",
              "2    10586                          221251.0                           0   \n",
              "3    17134                          228321.0                           0   \n",
              "4    17134                          464374.0                           0   \n",
              "\n",
              "   Census_InternalPrimaryDiagonalDisplaySizeInInches  \\\n",
              "0                                              169.0   \n",
              "1                                               71.0   \n",
              "2                                               94.0   \n",
              "3                                               94.0   \n",
              "4                                               94.0   \n",
              "\n",
              "   Census_InternalPrimaryDisplayResolutionHorizontal  \\\n",
              "0                                              341.0   \n",
              "1                                              125.0   \n",
              "2                                              341.0   \n",
              "3                                              341.0   \n",
              "4                                              161.0   \n",
              "\n",
              "   Census_InternalPrimaryDisplayResolutionVertical  ...  \\\n",
              "0                                            316.0  ...   \n",
              "1                                             89.0  ...   \n",
              "2                                            316.0  ...   \n",
              "3                                            316.0  ...   \n",
              "4                                            114.0  ...   \n",
              "\n",
              "   AVProductsInstalled_3.0  AVProductsInstalled_4.0  AVProductsInstalled_5.0  \\\n",
              "0                        0                        0                        0   \n",
              "1                        0                        0                        0   \n",
              "2                        0                        0                        0   \n",
              "3                        0                        0                        0   \n",
              "4                        0                        0                        0   \n",
              "\n",
              "   AVProductsInstalled_1  IeVerIdentifier_+110  IeVerIdentifier_<=110  \\\n",
              "0                      0                     1                      0   \n",
              "1                      0                     1                      0   \n",
              "2                      0                     0                      1   \n",
              "3                      0                     1                      0   \n",
              "4                      0                     1                      0   \n",
              "\n",
              "   Census_PrimaryDiskTotalCapacity_+500gb  \\\n",
              "0                                       1   \n",
              "1                                       0   \n",
              "2                                       0   \n",
              "3                                       0   \n",
              "4                                       0   \n",
              "\n",
              "   Census_PrimaryDiskTotalCapacity_<=500gb  Census_TotalPhysicalRAM_+4gb  \\\n",
              "0                                        0                             1   \n",
              "1                                        1                             1   \n",
              "2                                        1                             1   \n",
              "3                                        1                             1   \n",
              "4                                        1                             0   \n",
              "\n",
              "   Census_TotalPhysicalRAM_<=4gb  \n",
              "0                              0  \n",
              "1                              0  \n",
              "2                              0  \n",
              "3                              0  \n",
              "4                              1  \n",
              "\n",
              "[5 rows x 115 columns]"
            ],
            "text/html": [
              "\n",
              "  <div id=\"df-bde5191f-22da-4d19-9cbf-f1a08466a22b\">\n",
              "    <div class=\"colab-df-container\">\n",
              "      <div>\n",
              "<style scoped>\n",
              "    .dataframe tbody tr th:only-of-type {\n",
              "        vertical-align: middle;\n",
              "    }\n",
              "\n",
              "    .dataframe tbody tr th {\n",
              "        vertical-align: top;\n",
              "    }\n",
              "\n",
              "    .dataframe thead th {\n",
              "        text-align: right;\n",
              "    }\n",
              "</style>\n",
              "<table border=\"1\" class=\"dataframe\">\n",
              "  <thead>\n",
              "    <tr style=\"text-align: right;\">\n",
              "      <th></th>\n",
              "      <th>AppVersion</th>\n",
              "      <th>AvSigVersion</th>\n",
              "      <th>CountryIdentifier</th>\n",
              "      <th>LocaleEnglishNameIdentifier</th>\n",
              "      <th>OsBuild</th>\n",
              "      <th>Census_SystemVolumeTotalCapacity</th>\n",
              "      <th>Census_HasOpticalDiskDrive</th>\n",
              "      <th>Census_InternalPrimaryDiagonalDisplaySizeInInches</th>\n",
              "      <th>Census_InternalPrimaryDisplayResolutionHorizontal</th>\n",
              "      <th>Census_InternalPrimaryDisplayResolutionVertical</th>\n",
              "      <th>...</th>\n",
              "      <th>AVProductsInstalled_3.0</th>\n",
              "      <th>AVProductsInstalled_4.0</th>\n",
              "      <th>AVProductsInstalled_5.0</th>\n",
              "      <th>AVProductsInstalled_1</th>\n",
              "      <th>IeVerIdentifier_+110</th>\n",
              "      <th>IeVerIdentifier_&lt;=110</th>\n",
              "      <th>Census_PrimaryDiskTotalCapacity_+500gb</th>\n",
              "      <th>Census_PrimaryDiskTotalCapacity_&lt;=500gb</th>\n",
              "      <th>Census_TotalPhysicalRAM_+4gb</th>\n",
              "      <th>Census_TotalPhysicalRAM_&lt;=4gb</th>\n",
              "    </tr>\n",
              "  </thead>\n",
              "  <tbody>\n",
              "    <tr>\n",
              "      <th>0</th>\n",
              "      <td>8.0</td>\n",
              "      <td>10.0</td>\n",
              "      <td>8</td>\n",
              "      <td>172</td>\n",
              "      <td>17134</td>\n",
              "      <td>952838.0</td>\n",
              "      <td>0</td>\n",
              "      <td>169.0</td>\n",
              "      <td>341.0</td>\n",
              "      <td>316.0</td>\n",
              "      <td>...</td>\n",
              "      <td>0</td>\n",
              "      <td>0</td>\n",
              "      <td>0</td>\n",
              "      <td>0</td>\n",
              "      <td>1</td>\n",
              "      <td>0</td>\n",
              "      <td>1</td>\n",
              "      <td>0</td>\n",
              "      <td>1</td>\n",
              "      <td>0</td>\n",
              "    </tr>\n",
              "    <tr>\n",
              "      <th>1</th>\n",
              "      <td>8.0</td>\n",
              "      <td>10.0</td>\n",
              "      <td>129</td>\n",
              "      <td>124</td>\n",
              "      <td>17134</td>\n",
              "      <td>457600.0</td>\n",
              "      <td>0</td>\n",
              "      <td>71.0</td>\n",
              "      <td>125.0</td>\n",
              "      <td>89.0</td>\n",
              "      <td>...</td>\n",
              "      <td>0</td>\n",
              "      <td>0</td>\n",
              "      <td>0</td>\n",
              "      <td>0</td>\n",
              "      <td>1</td>\n",
              "      <td>0</td>\n",
              "      <td>0</td>\n",
              "      <td>1</td>\n",
              "      <td>1</td>\n",
              "      <td>0</td>\n",
              "    </tr>\n",
              "    <tr>\n",
              "      <th>2</th>\n",
              "      <td>14.0</td>\n",
              "      <td>10.0</td>\n",
              "      <td>149</td>\n",
              "      <td>56</td>\n",
              "      <td>10586</td>\n",
              "      <td>221251.0</td>\n",
              "      <td>0</td>\n",
              "      <td>94.0</td>\n",
              "      <td>341.0</td>\n",
              "      <td>316.0</td>\n",
              "      <td>...</td>\n",
              "      <td>0</td>\n",
              "      <td>0</td>\n",
              "      <td>0</td>\n",
              "      <td>0</td>\n",
              "      <td>0</td>\n",
              "      <td>1</td>\n",
              "      <td>0</td>\n",
              "      <td>1</td>\n",
              "      <td>1</td>\n",
              "      <td>0</td>\n",
              "    </tr>\n",
              "    <tr>\n",
              "      <th>3</th>\n",
              "      <td>8.0</td>\n",
              "      <td>10.0</td>\n",
              "      <td>164</td>\n",
              "      <td>172</td>\n",
              "      <td>17134</td>\n",
              "      <td>228321.0</td>\n",
              "      <td>0</td>\n",
              "      <td>94.0</td>\n",
              "      <td>341.0</td>\n",
              "      <td>316.0</td>\n",
              "      <td>...</td>\n",
              "      <td>0</td>\n",
              "      <td>0</td>\n",
              "      <td>0</td>\n",
              "      <td>0</td>\n",
              "      <td>1</td>\n",
              "      <td>0</td>\n",
              "      <td>0</td>\n",
              "      <td>1</td>\n",
              "      <td>1</td>\n",
              "      <td>0</td>\n",
              "    </tr>\n",
              "    <tr>\n",
              "      <th>4</th>\n",
              "      <td>8.0</td>\n",
              "      <td>10.0</td>\n",
              "      <td>207</td>\n",
              "      <td>75</td>\n",
              "      <td>17134</td>\n",
              "      <td>464374.0</td>\n",
              "      <td>0</td>\n",
              "      <td>94.0</td>\n",
              "      <td>161.0</td>\n",
              "      <td>114.0</td>\n",
              "      <td>...</td>\n",
              "      <td>0</td>\n",
              "      <td>0</td>\n",
              "      <td>0</td>\n",
              "      <td>0</td>\n",
              "      <td>1</td>\n",
              "      <td>0</td>\n",
              "      <td>0</td>\n",
              "      <td>1</td>\n",
              "      <td>0</td>\n",
              "      <td>1</td>\n",
              "    </tr>\n",
              "  </tbody>\n",
              "</table>\n",
              "<p>5 rows × 115 columns</p>\n",
              "</div>\n",
              "      <button class=\"colab-df-convert\" onclick=\"convertToInteractive('df-bde5191f-22da-4d19-9cbf-f1a08466a22b')\"\n",
              "              title=\"Convert this dataframe to an interactive table.\"\n",
              "              style=\"display:none;\">\n",
              "        \n",
              "  <svg xmlns=\"http://www.w3.org/2000/svg\" height=\"24px\"viewBox=\"0 0 24 24\"\n",
              "       width=\"24px\">\n",
              "    <path d=\"M0 0h24v24H0V0z\" fill=\"none\"/>\n",
              "    <path d=\"M18.56 5.44l.94 2.06.94-2.06 2.06-.94-2.06-.94-.94-2.06-.94 2.06-2.06.94zm-11 1L8.5 8.5l.94-2.06 2.06-.94-2.06-.94L8.5 2.5l-.94 2.06-2.06.94zm10 10l.94 2.06.94-2.06 2.06-.94-2.06-.94-.94-2.06-.94 2.06-2.06.94z\"/><path d=\"M17.41 7.96l-1.37-1.37c-.4-.4-.92-.59-1.43-.59-.52 0-1.04.2-1.43.59L10.3 9.45l-7.72 7.72c-.78.78-.78 2.05 0 2.83L4 21.41c.39.39.9.59 1.41.59.51 0 1.02-.2 1.41-.59l7.78-7.78 2.81-2.81c.8-.78.8-2.07 0-2.86zM5.41 20L4 18.59l7.72-7.72 1.47 1.35L5.41 20z\"/>\n",
              "  </svg>\n",
              "      </button>\n",
              "      \n",
              "  <style>\n",
              "    .colab-df-container {\n",
              "      display:flex;\n",
              "      flex-wrap:wrap;\n",
              "      gap: 12px;\n",
              "    }\n",
              "\n",
              "    .colab-df-convert {\n",
              "      background-color: #E8F0FE;\n",
              "      border: none;\n",
              "      border-radius: 50%;\n",
              "      cursor: pointer;\n",
              "      display: none;\n",
              "      fill: #1967D2;\n",
              "      height: 32px;\n",
              "      padding: 0 0 0 0;\n",
              "      width: 32px;\n",
              "    }\n",
              "\n",
              "    .colab-df-convert:hover {\n",
              "      background-color: #E2EBFA;\n",
              "      box-shadow: 0px 1px 2px rgba(60, 64, 67, 0.3), 0px 1px 3px 1px rgba(60, 64, 67, 0.15);\n",
              "      fill: #174EA6;\n",
              "    }\n",
              "\n",
              "    [theme=dark] .colab-df-convert {\n",
              "      background-color: #3B4455;\n",
              "      fill: #D2E3FC;\n",
              "    }\n",
              "\n",
              "    [theme=dark] .colab-df-convert:hover {\n",
              "      background-color: #434B5C;\n",
              "      box-shadow: 0px 1px 3px 1px rgba(0, 0, 0, 0.15);\n",
              "      filter: drop-shadow(0px 1px 2px rgba(0, 0, 0, 0.3));\n",
              "      fill: #FFFFFF;\n",
              "    }\n",
              "  </style>\n",
              "\n",
              "      <script>\n",
              "        const buttonEl =\n",
              "          document.querySelector('#df-bde5191f-22da-4d19-9cbf-f1a08466a22b button.colab-df-convert');\n",
              "        buttonEl.style.display =\n",
              "          google.colab.kernel.accessAllowed ? 'block' : 'none';\n",
              "\n",
              "        async function convertToInteractive(key) {\n",
              "          const element = document.querySelector('#df-bde5191f-22da-4d19-9cbf-f1a08466a22b');\n",
              "          const dataTable =\n",
              "            await google.colab.kernel.invokeFunction('convertToInteractive',\n",
              "                                                     [key], {});\n",
              "          if (!dataTable) return;\n",
              "\n",
              "          const docLinkHtml = 'Like what you see? Visit the ' +\n",
              "            '<a target=\"_blank\" href=https://colab.research.google.com/notebooks/data_table.ipynb>data table notebook</a>'\n",
              "            + ' to learn more about interactive tables.';\n",
              "          element.innerHTML = '';\n",
              "          dataTable['output_type'] = 'display_data';\n",
              "          await google.colab.output.renderOutput(dataTable, element);\n",
              "          const docLink = document.createElement('div');\n",
              "          docLink.innerHTML = docLinkHtml;\n",
              "          element.appendChild(docLink);\n",
              "        }\n",
              "      </script>\n",
              "    </div>\n",
              "  </div>\n",
              "  "
            ]
          },
          "metadata": {},
          "execution_count": 100
        }
      ]
    },
    {
      "cell_type": "code",
      "source": [
        "df.info()"
      ],
      "metadata": {
        "colab": {
          "base_uri": "https://localhost:8080/"
        },
        "id": "cVgKLQqA8Uhz",
        "outputId": "915feeeb-16de-4488-9bd4-c3ffa428925f"
      },
      "execution_count": null,
      "outputs": [
        {
          "output_type": "stream",
          "name": "stdout",
          "text": [
            "<class 'pandas.core.frame.DataFrame'>\n",
            "Int64Index: 498291 entries, 0 to 499999\n",
            "Columns: 115 entries, AppVersion to Census_TotalPhysicalRAM_<=4gb\n",
            "dtypes: float64(10), int64(8), uint8(97)\n",
            "memory usage: 118.3 MB\n"
          ]
        }
      ]
    },
    {
      "cell_type": "code",
      "source": [
        "y = df[target]\n",
        "X = df.drop(columns=[target])"
      ],
      "metadata": {
        "id": "3qYk_t4aKbDR"
      },
      "execution_count": null,
      "outputs": []
    },
    {
      "cell_type": "markdown",
      "metadata": {
        "id": "q850_HUNb_QE"
      },
      "source": [
        "## Remove High-Correlation"
      ]
    },
    {
      "cell_type": "markdown",
      "metadata": {
        "id": "bWLk8KgvlfwS"
      },
      "source": [
        "* Analizar variables (X) altamente correlacionadas\n",
        "* Eliminar una variable de cada pareja altmente correlacionada (>95% o >99%...) en el dataset (df)"
      ]
    },
    {
      "cell_type": "code",
      "execution_count": null,
      "metadata": {
        "id": "W3YbhcZ0AnpF",
        "colab": {
          "base_uri": "https://localhost:8080/",
          "height": 492
        },
        "outputId": "07765996-03c5-4959-ddb7-b8911ed9dda7"
      },
      "outputs": [
        {
          "output_type": "display_data",
          "data": {
            "text/plain": [
              "<Figure size 432x288 with 2 Axes>"
            ],
            "image/png": "[encoded data removed]"
          },
          "metadata": {
            "needs_background": "light"
          }
        }
      ],
      "source": [
        "sns.heatmap(X.corr(),annot=True)\n",
        "plt.show()"
      ]
    },
    {
      "cell_type": "code",
      "execution_count": null,
      "metadata": {
        "colab": {
          "base_uri": "https://localhost:8080/",
          "height": 300
        },
        "id": "6OOIoLBHmWLg",
        "outputId": "3e477476-c1d8-470f-9f1c-a556ed1ec4b9"
      },
      "outputs": [
        {
          "output_type": "execute_result",
          "data": {
            "text/plain": [
              "                                            F1                           F2  \\\n",
              "0                  Census_OSBranch_rs2_release     OsPlatformSubRelease_rs2   \n",
              "1                  Census_OSBranch_rs4_release     OsPlatformSubRelease_rs4   \n",
              "2                                  OsSuite_256               SkuEdition_Pro   \n",
              "3                                  OsSuite_768              SkuEdition_Home   \n",
              "4  Census_ProcessorManufacturerIdentifier_10.0  Census_OSArchitecture_arm64   \n",
              "5                   Census_OSBuildNumber_16299     OsPlatformSubRelease_rs3   \n",
              "6                   Census_OSBuildNumber_17134     OsPlatformSubRelease_rs4   \n",
              "7                   Census_OSBuildNumber_17134  Census_OSBranch_rs4_release   \n",
              "\n",
              "   corr_F1_F2  corr_F1_target  corr_F2_target                  F_to_delete  \n",
              "0    0.979476        0.012663        0.012728  Census_OSBranch_rs2_release  \n",
              "1    0.964976        0.040620        0.037475     OsPlatformSubRelease_rs4  \n",
              "2    0.970708        0.020719        0.019553               SkuEdition_Pro  \n",
              "3    0.988658        0.019820        0.018514              SkuEdition_Home  \n",
              "4    1.000000        0.005299        0.005299  Census_OSArchitecture_arm64  \n",
              "5    0.963043        0.012616        0.010787     OsPlatformSubRelease_rs3  \n",
              "6    0.964900        0.040628        0.037475     OsPlatformSubRelease_rs4  \n",
              "7    0.999911        0.040628        0.040620  Census_OSBranch_rs4_release  "
            ],
            "text/html": [
              "\n",
              "  <div id=\"df-67faa243-6c42-4eb7-b8c7-8fbec526c94f\">\n",
              "    <div class=\"colab-df-container\">\n",
              "      <div>\n",
              "<style scoped>\n",
              "    .dataframe tbody tr th:only-of-type {\n",
              "        vertical-align: middle;\n",
              "    }\n",
              "\n",
              "    .dataframe tbody tr th {\n",
              "        vertical-align: top;\n",
              "    }\n",
              "\n",
              "    .dataframe thead th {\n",
              "        text-align: right;\n",
              "    }\n",
              "</style>\n",
              "<table border=\"1\" class=\"dataframe\">\n",
              "  <thead>\n",
              "    <tr style=\"text-align: right;\">\n",
              "      <th></th>\n",
              "      <th>F1</th>\n",
              "      <th>F2</th>\n",
              "      <th>corr_F1_F2</th>\n",
              "      <th>corr_F1_target</th>\n",
              "      <th>corr_F2_target</th>\n",
              "      <th>F_to_delete</th>\n",
              "    </tr>\n",
              "  </thead>\n",
              "  <tbody>\n",
              "    <tr>\n",
              "      <th>0</th>\n",
              "      <td>Census_OSBranch_rs2_release</td>\n",
              "      <td>OsPlatformSubRelease_rs2</td>\n",
              "      <td>0.979476</td>\n",
              "      <td>0.012663</td>\n",
              "      <td>0.012728</td>\n",
              "      <td>Census_OSBranch_rs2_release</td>\n",
              "    </tr>\n",
              "    <tr>\n",
              "      <th>1</th>\n",
              "      <td>Census_OSBranch_rs4_release</td>\n",
              "      <td>OsPlatformSubRelease_rs4</td>\n",
              "      <td>0.964976</td>\n",
              "      <td>0.040620</td>\n",
              "      <td>0.037475</td>\n",
              "      <td>OsPlatformSubRelease_rs4</td>\n",
              "    </tr>\n",
              "    <tr>\n",
              "      <th>2</th>\n",
              "      <td>OsSuite_256</td>\n",
              "      <td>SkuEdition_Pro</td>\n",
              "      <td>0.970708</td>\n",
              "      <td>0.020719</td>\n",
              "      <td>0.019553</td>\n",
              "      <td>SkuEdition_Pro</td>\n",
              "    </tr>\n",
              "    <tr>\n",
              "      <th>3</th>\n",
              "      <td>OsSuite_768</td>\n",
              "      <td>SkuEdition_Home</td>\n",
              "      <td>0.988658</td>\n",
              "      <td>0.019820</td>\n",
              "      <td>0.018514</td>\n",
              "      <td>SkuEdition_Home</td>\n",
              "    </tr>\n",
              "    <tr>\n",
              "      <th>4</th>\n",
              "      <td>Census_ProcessorManufacturerIdentifier_10.0</td>\n",
              "      <td>Census_OSArchitecture_arm64</td>\n",
              "      <td>1.000000</td>\n",
              "      <td>0.005299</td>\n",
              "      <td>0.005299</td>\n",
              "      <td>Census_OSArchitecture_arm64</td>\n",
              "    </tr>\n",
              "    <tr>\n",
              "      <th>5</th>\n",
              "      <td>Census_OSBuildNumber_16299</td>\n",
              "      <td>OsPlatformSubRelease_rs3</td>\n",
              "      <td>0.963043</td>\n",
              "      <td>0.012616</td>\n",
              "      <td>0.010787</td>\n",
              "      <td>OsPlatformSubRelease_rs3</td>\n",
              "    </tr>\n",
              "    <tr>\n",
              "      <th>6</th>\n",
              "      <td>Census_OSBuildNumber_17134</td>\n",
              "      <td>OsPlatformSubRelease_rs4</td>\n",
              "      <td>0.964900</td>\n",
              "      <td>0.040628</td>\n",
              "      <td>0.037475</td>\n",
              "      <td>OsPlatformSubRelease_rs4</td>\n",
              "    </tr>\n",
              "    <tr>\n",
              "      <th>7</th>\n",
              "      <td>Census_OSBuildNumber_17134</td>\n",
              "      <td>Census_OSBranch_rs4_release</td>\n",
              "      <td>0.999911</td>\n",
              "      <td>0.040628</td>\n",
              "      <td>0.040620</td>\n",
              "      <td>Census_OSBranch_rs4_release</td>\n",
              "    </tr>\n",
              "  </tbody>\n",
              "</table>\n",
              "</div>\n",
              "      <button class=\"colab-df-convert\" onclick=\"convertToInteractive('df-67faa243-6c42-4eb7-b8c7-8fbec526c94f')\"\n",
              "              title=\"Convert this dataframe to an interactive table.\"\n",
              "              style=\"display:none;\">\n",
              "        \n",
              "  <svg xmlns=\"http://www.w3.org/2000/svg\" height=\"24px\"viewBox=\"0 0 24 24\"\n",
              "       width=\"24px\">\n",
              "    <path d=\"M0 0h24v24H0V0z\" fill=\"none\"/>\n",
              "    <path d=\"M18.56 5.44l.94 2.06.94-2.06 2.06-.94-2.06-.94-.94-2.06-.94 2.06-2.06.94zm-11 1L8.5 8.5l.94-2.06 2.06-.94-2.06-.94L8.5 2.5l-.94 2.06-2.06.94zm10 10l.94 2.06.94-2.06 2.06-.94-2.06-.94-.94-2.06-.94 2.06-2.06.94z\"/><path d=\"M17.41 7.96l-1.37-1.37c-.4-.4-.92-.59-1.43-.59-.52 0-1.04.2-1.43.59L10.3 9.45l-7.72 7.72c-.78.78-.78 2.05 0 2.83L4 21.41c.39.39.9.59 1.41.59.51 0 1.02-.2 1.41-.59l7.78-7.78 2.81-2.81c.8-.78.8-2.07 0-2.86zM5.41 20L4 18.59l7.72-7.72 1.47 1.35L5.41 20z\"/>\n",
              "  </svg>\n",
              "      </button>\n",
              "      \n",
              "  <style>\n",
              "    .colab-df-container {\n",
              "      display:flex;\n",
              "      flex-wrap:wrap;\n",
              "      gap: 12px;\n",
              "    }\n",
              "\n",
              "    .colab-df-convert {\n",
              "      background-color: #E8F0FE;\n",
              "      border: none;\n",
              "      border-radius: 50%;\n",
              "      cursor: pointer;\n",
              "      display: none;\n",
              "      fill: #1967D2;\n",
              "      height: 32px;\n",
              "      padding: 0 0 0 0;\n",
              "      width: 32px;\n",
              "    }\n",
              "\n",
              "    .colab-df-convert:hover {\n",
              "      background-color: #E2EBFA;\n",
              "      box-shadow: 0px 1px 2px rgba(60, 64, 67, 0.3), 0px 1px 3px 1px rgba(60, 64, 67, 0.15);\n",
              "      fill: #174EA6;\n",
              "    }\n",
              "\n",
              "    [theme=dark] .colab-df-convert {\n",
              "      background-color: #3B4455;\n",
              "      fill: #D2E3FC;\n",
              "    }\n",
              "\n",
              "    [theme=dark] .colab-df-convert:hover {\n",
              "      background-color: #434B5C;\n",
              "      box-shadow: 0px 1px 3px 1px rgba(0, 0, 0, 0.15);\n",
              "      filter: drop-shadow(0px 1px 2px rgba(0, 0, 0, 0.3));\n",
              "      fill: #FFFFFF;\n",
              "    }\n",
              "  </style>\n",
              "\n",
              "      <script>\n",
              "        const buttonEl =\n",
              "          document.querySelector('#df-67faa243-6c42-4eb7-b8c7-8fbec526c94f button.colab-df-convert');\n",
              "        buttonEl.style.display =\n",
              "          google.colab.kernel.accessAllowed ? 'block' : 'none';\n",
              "\n",
              "        async function convertToInteractive(key) {\n",
              "          const element = document.querySelector('#df-67faa243-6c42-4eb7-b8c7-8fbec526c94f');\n",
              "          const dataTable =\n",
              "            await google.colab.kernel.invokeFunction('convertToInteractive',\n",
              "                                                     [key], {});\n",
              "          if (!dataTable) return;\n",
              "\n",
              "          const docLinkHtml = 'Like what you see? Visit the ' +\n",
              "            '<a target=\"_blank\" href=https://colab.research.google.com/notebooks/data_table.ipynb>data table notebook</a>'\n",
              "            + ' to learn more about interactive tables.';\n",
              "          element.innerHTML = '';\n",
              "          dataTable['output_type'] = 'display_data';\n",
              "          await google.colab.output.renderOutput(dataTable, element);\n",
              "          const docLink = document.createElement('div');\n",
              "          docLink.innerHTML = docLinkHtml;\n",
              "          element.appendChild(docLink);\n",
              "        }\n",
              "      </script>\n",
              "    </div>\n",
              "  </div>\n",
              "  "
            ]
          },
          "metadata": {},
          "execution_count": 104
        }
      ],
      "source": [
        "def highly_correlated(X, y, threshold):\n",
        "    col_corr = list() # Set of all the names of deleted columns\n",
        "    colnames = list()\n",
        "    rownames = list()\n",
        "    corr_matrix = X.corr()\n",
        "    for i in range(len(corr_matrix.columns)):\n",
        "        for j in range(i):\n",
        "            if (corr_matrix.iloc[i, j] >= threshold) and (corr_matrix.columns[j] not in col_corr):\n",
        "                colnames.append(corr_matrix.columns[i]) # getting the name of column\n",
        "                rownames.append(corr_matrix.index[j])\n",
        "                col_corr.append(corr_matrix.iloc[i, j])\n",
        "    Z = pd.DataFrame({'F1':colnames,\n",
        "                      'F2':rownames,\n",
        "                      'corr_F1_F2':col_corr,\n",
        "                      'corr_F1_target': [np.abs(np.corrcoef(X[i],y)[0,1]) for i in colnames],\n",
        "                      'corr_F2_target': [np.abs(np.corrcoef(X[i],y)[0,1]) for i in rownames]\n",
        "                      })\n",
        "    Z['F_to_delete'] = rownames\n",
        "    Z['F_to_delete'][Z['corr_F1_target'] < Z['corr_F2_target']] = Z['F1'][Z['corr_F1_target'] < Z['corr_F2_target']]\n",
        "    \n",
        "    return Z\n",
        "    \n",
        "highly_corr = highly_correlated(X,y,0.95)\n",
        "highly_corr"
      ]
    },
    {
      "cell_type": "code",
      "execution_count": null,
      "metadata": {
        "id": "jizmfvx0HGTt"
      },
      "outputs": [],
      "source": [
        "X.drop(axis=1, columns=highly_corr['F_to_delete'], inplace=True)"
      ]
    },
    {
      "cell_type": "code",
      "source": [
        "df.info()"
      ],
      "metadata": {
        "colab": {
          "base_uri": "https://localhost:8080/"
        },
        "id": "PKc29T-g8kz-",
        "outputId": "9d63971b-761c-42fa-880d-be5337cabb62"
      },
      "execution_count": null,
      "outputs": [
        {
          "output_type": "stream",
          "name": "stdout",
          "text": [
            "<class 'pandas.core.frame.DataFrame'>\n",
            "Int64Index: 498291 entries, 0 to 499999\n",
            "Columns: 115 entries, AppVersion to Census_TotalPhysicalRAM_<=4gb\n",
            "dtypes: float64(10), int64(8), uint8(97)\n",
            "memory usage: 118.3 MB\n"
          ]
        }
      ]
    },
    {
      "cell_type": "markdown",
      "metadata": {
        "id": "khGcWSUVl-gI"
      },
      "source": [
        "## Remove Low-Variance"
      ]
    },
    {
      "cell_type": "markdown",
      "metadata": {
        "id": "AKGQ4xdWlVG9"
      },
      "source": [
        "* Eliminamos variables (X) practicamente constantes con un threshold minimo (1% o menos)"
      ]
    },
    {
      "cell_type": "code",
      "execution_count": null,
      "metadata": {
        "id": "0Kvy2Towl9eA"
      },
      "outputs": [],
      "source": [
        "from sklearn.feature_selection import VarianceThreshold"
      ]
    },
    {
      "cell_type": "code",
      "execution_count": null,
      "metadata": {
        "id": "nVL68mQqk0Xu",
        "colab": {
          "base_uri": "https://localhost:8080/"
        },
        "outputId": "1924611c-a0b6-4a9c-b856-fbe810346492"
      },
      "outputs": [
        {
          "output_type": "stream",
          "name": "stdout",
          "text": [
            "19 low variance features were removed:\n",
            " ['OsPlatformSubRelease_prers5', 'Census_OSBranch_rs3_release_svc_escrow_im', 'Census_OSBranch_rs5_release', 'Census_OSBranch_rs5_release_sigma', 'Census_OSBranch_rs_prerelease', 'Census_OSBranch_rs_prerelease_flt', 'Census_OSBranch_th1', 'Census_OSBranch_winblue_ltsb_escrow', 'Census_OSInstallTypeName_Clean', 'Census_OSInstallTypeName_CleanPCRefresh', 'Census_ActivationChannel_Retail:TB:Eval', 'Census_ActivationChannel_Volume:MAK', 'OsSuite_otros', 'Census_ProcessorManufacturerIdentifier_3.0', 'Census_ProcessorManufacturerIdentifier_10.0', 'Census_ProcessorManufacturerIdentifier_otros', 'AVProductsInstalled_4.0', 'AVProductsInstalled_5.0', 'AVProductsInstalled_1']\n"
          ]
        }
      ],
      "source": [
        "vt = VarianceThreshold(threshold = 0.01) #Eliminamos columnas donde el 99% de los valores son iguales\n",
        "vt.fit(X)\n",
        "\n",
        "cols_lowvar = X.columns[vt.get_support()==False]\n",
        "X.drop(columns=cols_lowvar,inplace=True)\n",
        "\n",
        "print(len(cols_lowvar),'low variance features were removed:\\n', cols_lowvar.to_list())"
      ]
    },
    {
      "cell_type": "code",
      "source": [
        "df.shape"
      ],
      "metadata": {
        "colab": {
          "base_uri": "https://localhost:8080/"
        },
        "id": "VTN-N2jp8sig",
        "outputId": "59bd377d-e7a6-4ace-a587-660baf859a8d"
      },
      "execution_count": null,
      "outputs": [
        {
          "output_type": "execute_result",
          "data": {
            "text/plain": [
              "(498291, 115)"
            ]
          },
          "metadata": {},
          "execution_count": 109
        }
      ]
    },
    {
      "cell_type": "code",
      "source": [
        "df.head()"
      ],
      "metadata": {
        "colab": {
          "base_uri": "https://localhost:8080/",
          "height": 299
        },
        "id": "AuP-RKhNt5-Z",
        "outputId": "a913b0de-72e7-4e5d-98be-3c5a8c7ec872"
      },
      "execution_count": null,
      "outputs": [
        {
          "output_type": "execute_result",
          "data": {
            "text/plain": [
              "   AppVersion  AvSigVersion  CountryIdentifier  LocaleEnglishNameIdentifier  \\\n",
              "0         8.0          10.0                  8                          172   \n",
              "1         8.0          10.0                129                          124   \n",
              "2        14.0          10.0                149                           56   \n",
              "3         8.0          10.0                164                          172   \n",
              "4         8.0          10.0                207                           75   \n",
              "\n",
              "   OsBuild  Census_SystemVolumeTotalCapacity  Census_HasOpticalDiskDrive  \\\n",
              "0    17134                          952838.0                           0   \n",
              "1    17134                          457600.0                           0   \n",
              "2    10586                          221251.0                           0   \n",
              "3    17134                          228321.0                           0   \n",
              "4    17134                          464374.0                           0   \n",
              "\n",
              "   Census_InternalPrimaryDiagonalDisplaySizeInInches  \\\n",
              "0                                              169.0   \n",
              "1                                               71.0   \n",
              "2                                               94.0   \n",
              "3                                               94.0   \n",
              "4                                               94.0   \n",
              "\n",
              "   Census_InternalPrimaryDisplayResolutionHorizontal  \\\n",
              "0                                              341.0   \n",
              "1                                              125.0   \n",
              "2                                              341.0   \n",
              "3                                              341.0   \n",
              "4                                              161.0   \n",
              "\n",
              "   Census_InternalPrimaryDisplayResolutionVertical  ...  \\\n",
              "0                                            316.0  ...   \n",
              "1                                             89.0  ...   \n",
              "2                                            316.0  ...   \n",
              "3                                            316.0  ...   \n",
              "4                                            114.0  ...   \n",
              "\n",
              "   AVProductsInstalled_3.0  AVProductsInstalled_4.0  AVProductsInstalled_5.0  \\\n",
              "0                        0                        0                        0   \n",
              "1                        0                        0                        0   \n",
              "2                        0                        0                        0   \n",
              "3                        0                        0                        0   \n",
              "4                        0                        0                        0   \n",
              "\n",
              "   AVProductsInstalled_1  IeVerIdentifier_+110  IeVerIdentifier_<=110  \\\n",
              "0                      0                     1                      0   \n",
              "1                      0                     1                      0   \n",
              "2                      0                     0                      1   \n",
              "3                      0                     1                      0   \n",
              "4                      0                     1                      0   \n",
              "\n",
              "   Census_PrimaryDiskTotalCapacity_+500gb  \\\n",
              "0                                       1   \n",
              "1                                       0   \n",
              "2                                       0   \n",
              "3                                       0   \n",
              "4                                       0   \n",
              "\n",
              "   Census_PrimaryDiskTotalCapacity_<=500gb  Census_TotalPhysicalRAM_+4gb  \\\n",
              "0                                        0                             1   \n",
              "1                                        1                             1   \n",
              "2                                        1                             1   \n",
              "3                                        1                             1   \n",
              "4                                        1                             0   \n",
              "\n",
              "   Census_TotalPhysicalRAM_<=4gb  \n",
              "0                              0  \n",
              "1                              0  \n",
              "2                              0  \n",
              "3                              0  \n",
              "4                              1  \n",
              "\n",
              "[5 rows x 115 columns]"
            ],
            "text/html": [
              "\n",
              "  <div id=\"df-6ef17083-5d55-45c8-b0da-802acdcf15bd\">\n",
              "    <div class=\"colab-df-container\">\n",
              "      <div>\n",
              "<style scoped>\n",
              "    .dataframe tbody tr th:only-of-type {\n",
              "        vertical-align: middle;\n",
              "    }\n",
              "\n",
              "    .dataframe tbody tr th {\n",
              "        vertical-align: top;\n",
              "    }\n",
              "\n",
              "    .dataframe thead th {\n",
              "        text-align: right;\n",
              "    }\n",
              "</style>\n",
              "<table border=\"1\" class=\"dataframe\">\n",
              "  <thead>\n",
              "    <tr style=\"text-align: right;\">\n",
              "      <th></th>\n",
              "      <th>AppVersion</th>\n",
              "      <th>AvSigVersion</th>\n",
              "      <th>CountryIdentifier</th>\n",
              "      <th>LocaleEnglishNameIdentifier</th>\n",
              "      <th>OsBuild</th>\n",
              "      <th>Census_SystemVolumeTotalCapacity</th>\n",
              "      <th>Census_HasOpticalDiskDrive</th>\n",
              "      <th>Census_InternalPrimaryDiagonalDisplaySizeInInches</th>\n",
              "      <th>Census_InternalPrimaryDisplayResolutionHorizontal</th>\n",
              "      <th>Census_InternalPrimaryDisplayResolutionVertical</th>\n",
              "      <th>...</th>\n",
              "      <th>AVProductsInstalled_3.0</th>\n",
              "      <th>AVProductsInstalled_4.0</th>\n",
              "      <th>AVProductsInstalled_5.0</th>\n",
              "      <th>AVProductsInstalled_1</th>\n",
              "      <th>IeVerIdentifier_+110</th>\n",
              "      <th>IeVerIdentifier_&lt;=110</th>\n",
              "      <th>Census_PrimaryDiskTotalCapacity_+500gb</th>\n",
              "      <th>Census_PrimaryDiskTotalCapacity_&lt;=500gb</th>\n",
              "      <th>Census_TotalPhysicalRAM_+4gb</th>\n",
              "      <th>Census_TotalPhysicalRAM_&lt;=4gb</th>\n",
              "    </tr>\n",
              "  </thead>\n",
              "  <tbody>\n",
              "    <tr>\n",
              "      <th>0</th>\n",
              "      <td>8.0</td>\n",
              "      <td>10.0</td>\n",
              "      <td>8</td>\n",
              "      <td>172</td>\n",
              "      <td>17134</td>\n",
              "      <td>952838.0</td>\n",
              "      <td>0</td>\n",
              "      <td>169.0</td>\n",
              "      <td>341.0</td>\n",
              "      <td>316.0</td>\n",
              "      <td>...</td>\n",
              "      <td>0</td>\n",
              "      <td>0</td>\n",
              "      <td>0</td>\n",
              "      <td>0</td>\n",
              "      <td>1</td>\n",
              "      <td>0</td>\n",
              "      <td>1</td>\n",
              "      <td>0</td>\n",
              "      <td>1</td>\n",
              "      <td>0</td>\n",
              "    </tr>\n",
              "    <tr>\n",
              "      <th>1</th>\n",
              "      <td>8.0</td>\n",
              "      <td>10.0</td>\n",
              "      <td>129</td>\n",
              "      <td>124</td>\n",
              "      <td>17134</td>\n",
              "      <td>457600.0</td>\n",
              "      <td>0</td>\n",
              "      <td>71.0</td>\n",
              "      <td>125.0</td>\n",
              "      <td>89.0</td>\n",
              "      <td>...</td>\n",
              "      <td>0</td>\n",
              "      <td>0</td>\n",
              "      <td>0</td>\n",
              "      <td>0</td>\n",
              "      <td>1</td>\n",
              "      <td>0</td>\n",
              "      <td>0</td>\n",
              "      <td>1</td>\n",
              "      <td>1</td>\n",
              "      <td>0</td>\n",
              "    </tr>\n",
              "    <tr>\n",
              "      <th>2</th>\n",
              "      <td>14.0</td>\n",
              "      <td>10.0</td>\n",
              "      <td>149</td>\n",
              "      <td>56</td>\n",
              "      <td>10586</td>\n",
              "      <td>221251.0</td>\n",
              "      <td>0</td>\n",
              "      <td>94.0</td>\n",
              "      <td>341.0</td>\n",
              "      <td>316.0</td>\n",
              "      <td>...</td>\n",
              "      <td>0</td>\n",
              "      <td>0</td>\n",
              "      <td>0</td>\n",
              "      <td>0</td>\n",
              "      <td>0</td>\n",
              "      <td>1</td>\n",
              "      <td>0</td>\n",
              "      <td>1</td>\n",
              "      <td>1</td>\n",
              "      <td>0</td>\n",
              "    </tr>\n",
              "    <tr>\n",
              "      <th>3</th>\n",
              "      <td>8.0</td>\n",
              "      <td>10.0</td>\n",
              "      <td>164</td>\n",
              "      <td>172</td>\n",
              "      <td>17134</td>\n",
              "      <td>228321.0</td>\n",
              "      <td>0</td>\n",
              "      <td>94.0</td>\n",
              "      <td>341.0</td>\n",
              "      <td>316.0</td>\n",
              "      <td>...</td>\n",
              "      <td>0</td>\n",
              "      <td>0</td>\n",
              "      <td>0</td>\n",
              "      <td>0</td>\n",
              "      <td>1</td>\n",
              "      <td>0</td>\n",
              "      <td>0</td>\n",
              "      <td>1</td>\n",
              "      <td>1</td>\n",
              "      <td>0</td>\n",
              "    </tr>\n",
              "    <tr>\n",
              "      <th>4</th>\n",
              "      <td>8.0</td>\n",
              "      <td>10.0</td>\n",
              "      <td>207</td>\n",
              "      <td>75</td>\n",
              "      <td>17134</td>\n",
              "      <td>464374.0</td>\n",
              "      <td>0</td>\n",
              "      <td>94.0</td>\n",
              "      <td>161.0</td>\n",
              "      <td>114.0</td>\n",
              "      <td>...</td>\n",
              "      <td>0</td>\n",
              "      <td>0</td>\n",
              "      <td>0</td>\n",
              "      <td>0</td>\n",
              "      <td>1</td>\n",
              "      <td>0</td>\n",
              "      <td>0</td>\n",
              "      <td>1</td>\n",
              "      <td>0</td>\n",
              "      <td>1</td>\n",
              "    </tr>\n",
              "  </tbody>\n",
              "</table>\n",
              "<p>5 rows × 115 columns</p>\n",
              "</div>\n",
              "      <button class=\"colab-df-convert\" onclick=\"convertToInteractive('df-6ef17083-5d55-45c8-b0da-802acdcf15bd')\"\n",
              "              title=\"Convert this dataframe to an interactive table.\"\n",
              "              style=\"display:none;\">\n",
              "        \n",
              "  <svg xmlns=\"http://www.w3.org/2000/svg\" height=\"24px\"viewBox=\"0 0 24 24\"\n",
              "       width=\"24px\">\n",
              "    <path d=\"M0 0h24v24H0V0z\" fill=\"none\"/>\n",
              "    <path d=\"M18.56 5.44l.94 2.06.94-2.06 2.06-.94-2.06-.94-.94-2.06-.94 2.06-2.06.94zm-11 1L8.5 8.5l.94-2.06 2.06-.94-2.06-.94L8.5 2.5l-.94 2.06-2.06.94zm10 10l.94 2.06.94-2.06 2.06-.94-2.06-.94-.94-2.06-.94 2.06-2.06.94z\"/><path d=\"M17.41 7.96l-1.37-1.37c-.4-.4-.92-.59-1.43-.59-.52 0-1.04.2-1.43.59L10.3 9.45l-7.72 7.72c-.78.78-.78 2.05 0 2.83L4 21.41c.39.39.9.59 1.41.59.51 0 1.02-.2 1.41-.59l7.78-7.78 2.81-2.81c.8-.78.8-2.07 0-2.86zM5.41 20L4 18.59l7.72-7.72 1.47 1.35L5.41 20z\"/>\n",
              "  </svg>\n",
              "      </button>\n",
              "      \n",
              "  <style>\n",
              "    .colab-df-container {\n",
              "      display:flex;\n",
              "      flex-wrap:wrap;\n",
              "      gap: 12px;\n",
              "    }\n",
              "\n",
              "    .colab-df-convert {\n",
              "      background-color: #E8F0FE;\n",
              "      border: none;\n",
              "      border-radius: 50%;\n",
              "      cursor: pointer;\n",
              "      display: none;\n",
              "      fill: #1967D2;\n",
              "      height: 32px;\n",
              "      padding: 0 0 0 0;\n",
              "      width: 32px;\n",
              "    }\n",
              "\n",
              "    .colab-df-convert:hover {\n",
              "      background-color: #E2EBFA;\n",
              "      box-shadow: 0px 1px 2px rgba(60, 64, 67, 0.3), 0px 1px 3px 1px rgba(60, 64, 67, 0.15);\n",
              "      fill: #174EA6;\n",
              "    }\n",
              "\n",
              "    [theme=dark] .colab-df-convert {\n",
              "      background-color: #3B4455;\n",
              "      fill: #D2E3FC;\n",
              "    }\n",
              "\n",
              "    [theme=dark] .colab-df-convert:hover {\n",
              "      background-color: #434B5C;\n",
              "      box-shadow: 0px 1px 3px 1px rgba(0, 0, 0, 0.15);\n",
              "      filter: drop-shadow(0px 1px 2px rgba(0, 0, 0, 0.3));\n",
              "      fill: #FFFFFF;\n",
              "    }\n",
              "  </style>\n",
              "\n",
              "      <script>\n",
              "        const buttonEl =\n",
              "          document.querySelector('#df-6ef17083-5d55-45c8-b0da-802acdcf15bd button.colab-df-convert');\n",
              "        buttonEl.style.display =\n",
              "          google.colab.kernel.accessAllowed ? 'block' : 'none';\n",
              "\n",
              "        async function convertToInteractive(key) {\n",
              "          const element = document.querySelector('#df-6ef17083-5d55-45c8-b0da-802acdcf15bd');\n",
              "          const dataTable =\n",
              "            await google.colab.kernel.invokeFunction('convertToInteractive',\n",
              "                                                     [key], {});\n",
              "          if (!dataTable) return;\n",
              "\n",
              "          const docLinkHtml = 'Like what you see? Visit the ' +\n",
              "            '<a target=\"_blank\" href=https://colab.research.google.com/notebooks/data_table.ipynb>data table notebook</a>'\n",
              "            + ' to learn more about interactive tables.';\n",
              "          element.innerHTML = '';\n",
              "          dataTable['output_type'] = 'display_data';\n",
              "          await google.colab.output.renderOutput(dataTable, element);\n",
              "          const docLink = document.createElement('div');\n",
              "          docLink.innerHTML = docLinkHtml;\n",
              "          element.appendChild(docLink);\n",
              "        }\n",
              "      </script>\n",
              "    </div>\n",
              "  </div>\n",
              "  "
            ]
          },
          "metadata": {},
          "execution_count": 111
        }
      ]
    },
    {
      "cell_type": "code",
      "source": [
        "df.columns = df.columns.str.replace('<=', '_')"
      ],
      "metadata": {
        "id": "OLDOxBUJvTxP"
      },
      "execution_count": null,
      "outputs": []
    },
    {
      "cell_type": "markdown",
      "metadata": {
        "id": "qmoTO8djVYIk"
      },
      "source": [
        "# Save cleaned dataset"
      ]
    },
    {
      "cell_type": "code",
      "execution_count": null,
      "metadata": {
        "id": "lPXLbgUeVce9"
      },
      "outputs": [],
      "source": [
        "df.to_csv('/content/drive/MyDrive/NUCLIO DSC ML SUPERVISADO - Compartida 2/“DSC0922 – Entregable SupML - {Rojas}”/TEMPLATE-Sup-ML-main/clean_data.csv',index= False)"
      ]
    }
  ],
  "metadata": {
    "colab": {
      "provenance": [],
      "include_colab_link": true
    },
    "kernelspec": {
      "display_name": "Python 3",
      "name": "python3"
    },
    "language_info": {
      "name": "python"
    }
  },
  "nbformat": 4,
  "nbformat_minor": 0
}